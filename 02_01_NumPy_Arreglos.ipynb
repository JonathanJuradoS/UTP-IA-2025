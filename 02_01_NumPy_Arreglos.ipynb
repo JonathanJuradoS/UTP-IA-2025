{
  "cells": [
    {
      "cell_type": "markdown",
      "metadata": {
        "id": "view-in-github",
        "colab_type": "text"
      },
      "source": [
        "<a href=\"https://colab.research.google.com/github/JonathanJuradoS/UTP-IA-2025/blob/main/02_01_NumPy_Arreglos.ipynb\" target=\"_parent\"><img src=\"https://colab.research.google.com/assets/colab-badge.svg\" alt=\"Open In Colab\"/></a>"
      ]
    },
    {
      "cell_type": "markdown",
      "metadata": {
        "id": "BOzsyqUVHHHO"
      },
      "source": [
        "___\n",
        "\n",
        "<a href='https://jupyter-notebook.readthedocs.io/en/stable/examples/Notebook/Running%20Code.html'> <img src='https://www.python.org/static/img/python-logo.png' /></a>\n",
        "___"
      ]
    },
    {
      "cell_type": "markdown",
      "metadata": {
        "id": "TUgNz9BYHHHP"
      },
      "source": [
        "# NumPy\n",
        "\n",
        "NumPy (o Numpy) es una biblioteca de álgebra lineal para Python, la razón por la que es tan importante para la ciencia de datos con Python es que casi todas las bibliotecas del ecosistema PyData se basan en NumPy como uno de sus principales bloques de construcción.\n",
        "\n",
        "Numpy también es increíblemente rápido, ya que tiene enlaces a bibliotecas C.\n",
        "Solo aprenderemos los conceptos básicos de NumPy, ¡para comenzar necesitamos instalarlo!"
      ]
    },
    {
      "cell_type": "markdown",
      "metadata": {
        "id": "1SFktBcbHHHQ"
      },
      "source": [
        "## Instrucciones de instalación\n",
        "\n",
        "\n",
        "\n",
        "**Se recomienda encarecidamente que instale Python utilizando la distribución de Anaconda para asegurarse de que todas las dependencias subyacentes (como las bibliotecas de Álgebra lineal) se sincronicen con el uso de una instalación de conda. Si tiene Anaconda, instale NumPy yendo a su terminal o símbolo del sistema y escribiendo:**\n",
        "    \n",
        "    conda install numpy\n",
        "    \n",
        "**Si no tiene Anaconda y no puede instalarlo, consulte la documentación oficial de Numpy en varias instrucciones de instalación. [Numpy's official documentation on various installation instructions.](http://docs.scipy.org/doc/numpy-1.10.1/user/install.html)**"
      ]
    },
    {
      "cell_type": "markdown",
      "metadata": {
        "id": "QKPGz5SCHHHQ"
      },
      "source": [
        "## Usando NumPy\n",
        "\n",
        "Una vez que haya instalado NumPy, puede importarlo como una biblioteca:"
      ]
    },
    {
      "cell_type": "code",
      "execution_count": null,
      "metadata": {
        "id": "c-JP58LrHHHQ"
      },
      "outputs": [],
      "source": [
        "import numpy as np"
      ]
    },
    {
      "cell_type": "markdown",
      "metadata": {
        "id": "nZGj5pQrHHHR"
      },
      "source": [
        "Numpy tiene muchas funciones y capacidades integradas. No los cubriremos todos, sino que nos centraremos en algunos de los aspectos más importantes de Numpy: vectores, matrices, matrices y generación de números. Comencemos discutiendo las matrices.\n",
        "\n",
        "# Numpy Arrays\n",
        "\n",
        "Las matrices NumPy son la principal forma en que usaremos Numpy a lo largo del curso. Los arreglos Numpy vienen esencialmente en dos formas: vectores y matrices. Los vectores son matrices estrictamente 1-d y las matrices son 2-d (pero debe tener en cuenta que una matriz todavía puede tener solo una fila o una columna).\n",
        "\n",
        "Comencemos nuestra introducción explorando cómo crear matrices NumPy.\n",
        "\n",
        "## Creando NumPy Arrays\n",
        "\n",
        "### Desde una Lista de Python\n",
        "\n",
        "Podemos crear una matriz convirtiendo directamente una lista o lista de listas:"
      ]
    },
    {
      "cell_type": "code",
      "execution_count": null,
      "metadata": {
        "id": "ODquQBsBHHHR",
        "outputId": "c2af1f9d-7602-405b-da21-22db68828464"
      },
      "outputs": [
        {
          "data": {
            "text/plain": [
              "[1, 2, 3]"
            ]
          },
          "execution_count": 4,
          "metadata": {},
          "output_type": "execute_result"
        }
      ],
      "source": [
        "my_list = [1,2,3]\n",
        "my_list"
      ]
    },
    {
      "cell_type": "code",
      "execution_count": null,
      "metadata": {
        "id": "ju2hhLUNHHHR",
        "outputId": "760e80a8-f5ea-4ff6-8e0c-bfe6c7a41c6f"
      },
      "outputs": [
        {
          "data": {
            "text/plain": [
              "array([1, 2, 3])"
            ]
          },
          "execution_count": 5,
          "metadata": {},
          "output_type": "execute_result"
        }
      ],
      "source": [
        "np.array(my_list)"
      ]
    },
    {
      "cell_type": "code",
      "execution_count": null,
      "metadata": {
        "id": "UtDzjwWDHHHS",
        "outputId": "7d9074ab-6ed4-44c3-b526-45099efe9b43"
      },
      "outputs": [
        {
          "data": {
            "text/plain": [
              "[[1, 2, 3], [4, 5, 6], [7, 8, 9]]"
            ]
          },
          "execution_count": 6,
          "metadata": {},
          "output_type": "execute_result"
        }
      ],
      "source": [
        "my_matrix = [[1,2,3],[4,5,6],[7,8,9]]\n",
        "my_matrix"
      ]
    },
    {
      "cell_type": "code",
      "execution_count": null,
      "metadata": {
        "id": "h1IN9Z_4HHHS",
        "outputId": "4209156b-f5d8-46f3-a6bf-de9945593ed5"
      },
      "outputs": [
        {
          "data": {
            "text/plain": [
              "array([[1, 2, 3],\n",
              "       [4, 5, 6],\n",
              "       [7, 8, 9]])"
            ]
          },
          "execution_count": 8,
          "metadata": {},
          "output_type": "execute_result"
        }
      ],
      "source": [
        "np.array(my_matrix)"
      ]
    },
    {
      "cell_type": "markdown",
      "metadata": {
        "id": "gkZZmH7WHHHS"
      },
      "source": [
        "## Built-in Methods\n",
        "\n",
        "Hay muchas formas integradas de generar matrices."
      ]
    },
    {
      "cell_type": "markdown",
      "metadata": {
        "id": "HQfqwW0kHHHS"
      },
      "source": [
        "### arange\n",
        "\n",
        "Devuelve valores espaciados uniformemente dentro de un intervalo dado."
      ]
    },
    {
      "cell_type": "code",
      "execution_count": null,
      "metadata": {
        "id": "kFTYi9UKHHHS",
        "outputId": "f9040815-ed2c-46ab-a81a-633b7a0f5dc1"
      },
      "outputs": [
        {
          "data": {
            "text/plain": [
              "array([0, 1, 2, 3, 4, 5, 6, 7, 8, 9])"
            ]
          },
          "execution_count": 22,
          "metadata": {},
          "output_type": "execute_result"
        }
      ],
      "source": [
        "np.arange(0,10)"
      ]
    },
    {
      "cell_type": "code",
      "execution_count": null,
      "metadata": {
        "id": "Z05ZbPlWHHHS",
        "outputId": "fa383303-88ef-4145-fc96-de16fcd2cc85"
      },
      "outputs": [
        {
          "data": {
            "text/plain": [
              "array([ 0,  2,  4,  6,  8, 10])"
            ]
          },
          "execution_count": 23,
          "metadata": {},
          "output_type": "execute_result"
        }
      ],
      "source": [
        "np.arange(0,11,2)"
      ]
    },
    {
      "cell_type": "markdown",
      "metadata": {
        "id": "IVp8AtVnHHHS"
      },
      "source": [
        "### zeros and ones\n",
        "\n",
        "Generar matrices de ceros o unos"
      ]
    },
    {
      "cell_type": "code",
      "execution_count": null,
      "metadata": {
        "id": "nRHI0y8THHHS",
        "outputId": "63b55bbb-71ab-42d4-f1ad-a30d74c9427a"
      },
      "outputs": [
        {
          "data": {
            "text/plain": [
              "array([ 0.,  0.,  0.])"
            ]
          },
          "execution_count": 24,
          "metadata": {},
          "output_type": "execute_result"
        }
      ],
      "source": [
        "np.zeros(3)"
      ]
    },
    {
      "cell_type": "code",
      "execution_count": null,
      "metadata": {
        "id": "-mNeM50FHHHS",
        "outputId": "0a8443cd-0d4c-4d71-934a-ac57fa060723"
      },
      "outputs": [
        {
          "data": {
            "text/plain": [
              "array([[ 0.,  0.,  0.,  0.,  0.],\n",
              "       [ 0.,  0.,  0.,  0.,  0.],\n",
              "       [ 0.,  0.,  0.,  0.,  0.],\n",
              "       [ 0.,  0.,  0.,  0.,  0.],\n",
              "       [ 0.,  0.,  0.,  0.,  0.]])"
            ]
          },
          "execution_count": 26,
          "metadata": {},
          "output_type": "execute_result"
        }
      ],
      "source": [
        "np.zeros((5,5))"
      ]
    },
    {
      "cell_type": "code",
      "execution_count": null,
      "metadata": {
        "id": "fpGHneLBHHHT",
        "outputId": "4a16051e-341f-41b2-b135-59d09b9a7848"
      },
      "outputs": [
        {
          "data": {
            "text/plain": [
              "array([ 1.,  1.,  1.])"
            ]
          },
          "execution_count": 27,
          "metadata": {},
          "output_type": "execute_result"
        }
      ],
      "source": [
        "np.ones(3)"
      ]
    },
    {
      "cell_type": "code",
      "execution_count": null,
      "metadata": {
        "id": "E74Gu842HHHT",
        "outputId": "94b62d8f-bbe3-40c8-86f7-fe8fc1c2164d"
      },
      "outputs": [
        {
          "data": {
            "text/plain": [
              "array([[ 1.,  1.,  1.],\n",
              "       [ 1.,  1.,  1.],\n",
              "       [ 1.,  1.,  1.]])"
            ]
          },
          "execution_count": 28,
          "metadata": {},
          "output_type": "execute_result"
        }
      ],
      "source": [
        "np.ones((3,3))"
      ]
    },
    {
      "cell_type": "markdown",
      "metadata": {
        "id": "4DraTro_HHHT"
      },
      "source": [
        "### linspace\n",
        "Devuelve números espaciados uniformemente durante un intervalo especificado."
      ]
    },
    {
      "cell_type": "code",
      "execution_count": null,
      "metadata": {
        "id": "cFykZjECHHHT",
        "outputId": "8698a5c9-72cc-400e-9d9b-ebc2cef45243"
      },
      "outputs": [
        {
          "data": {
            "text/plain": [
              "array([  0.,   5.,  10.])"
            ]
          },
          "execution_count": 29,
          "metadata": {},
          "output_type": "execute_result"
        }
      ],
      "source": [
        "np.linspace(0,10,3)"
      ]
    },
    {
      "cell_type": "code",
      "execution_count": null,
      "metadata": {
        "id": "QZQdbS2SHHHT",
        "outputId": "70a99f5c-38e5-4044-b240-ce2e30e783da"
      },
      "outputs": [
        {
          "data": {
            "text/plain": [
              "array([  0.        ,   0.20408163,   0.40816327,   0.6122449 ,\n",
              "         0.81632653,   1.02040816,   1.2244898 ,   1.42857143,\n",
              "         1.63265306,   1.83673469,   2.04081633,   2.24489796,\n",
              "         2.44897959,   2.65306122,   2.85714286,   3.06122449,\n",
              "         3.26530612,   3.46938776,   3.67346939,   3.87755102,\n",
              "         4.08163265,   4.28571429,   4.48979592,   4.69387755,\n",
              "         4.89795918,   5.10204082,   5.30612245,   5.51020408,\n",
              "         5.71428571,   5.91836735,   6.12244898,   6.32653061,\n",
              "         6.53061224,   6.73469388,   6.93877551,   7.14285714,\n",
              "         7.34693878,   7.55102041,   7.75510204,   7.95918367,\n",
              "         8.16326531,   8.36734694,   8.57142857,   8.7755102 ,\n",
              "         8.97959184,   9.18367347,   9.3877551 ,   9.59183673,\n",
              "         9.79591837,  10.        ])"
            ]
          },
          "execution_count": 31,
          "metadata": {},
          "output_type": "execute_result"
        }
      ],
      "source": [
        "np.linspace(0,10,50)"
      ]
    },
    {
      "cell_type": "markdown",
      "metadata": {
        "id": "JtlIQUzeHHHT"
      },
      "source": [
        "## eye\n",
        "\n",
        "Crea una matriz de identidad"
      ]
    },
    {
      "cell_type": "code",
      "execution_count": null,
      "metadata": {
        "id": "xoPGmYmpHHHT",
        "outputId": "a5861e87-a3e8-49c1-a213-e93d912e607d"
      },
      "outputs": [
        {
          "data": {
            "text/plain": [
              "array([[1., 0., 0., 0., 0.],\n",
              "       [0., 1., 0., 0., 0.],\n",
              "       [0., 0., 1., 0., 0.],\n",
              "       [0., 0., 0., 1., 0.],\n",
              "       [0., 0., 0., 0., 1.]])"
            ]
          },
          "execution_count": 18,
          "metadata": {},
          "output_type": "execute_result"
        }
      ],
      "source": [
        "np.eye(5)"
      ]
    },
    {
      "cell_type": "markdown",
      "metadata": {
        "id": "a9Hu2siQHHHT"
      },
      "source": [
        "## Random\n",
        "\n",
        "Numpy también tiene muchas formas de crear matrices de números aleatorios:\n",
        "\n",
        "### rand\n",
        "Crea una matriz de la forma dada y la rellena con\n",
        "muestras aleatorias de una distribución uniforme\n",
        "entre``[0, 1)``."
      ]
    },
    {
      "cell_type": "code",
      "execution_count": null,
      "metadata": {
        "id": "IRJsVG4yHHHT",
        "outputId": "88ac7540-55b8-41c8-bb5a-e353c36a5eee"
      },
      "outputs": [
        {
          "data": {
            "text/plain": [
              "array([0.59721896, 0.03251926])"
            ]
          },
          "execution_count": 9,
          "metadata": {},
          "output_type": "execute_result"
        }
      ],
      "source": [
        "np.random.rand(2)"
      ]
    },
    {
      "cell_type": "code",
      "execution_count": null,
      "metadata": {
        "id": "wt39Iog0HHHT",
        "outputId": "8d00a65c-4194-4bc2-ae2a-21b2a75688c0"
      },
      "outputs": [
        {
          "data": {
            "text/plain": [
              "array([[0.91583519, 0.66912302, 0.4281503 , 0.03303707, 0.69993912],\n",
              "       [0.27442503, 0.19333618, 0.68872026, 0.52872091, 0.51511601],\n",
              "       [0.11885511, 0.97750294, 0.93086627, 0.29735385, 0.45703684],\n",
              "       [0.24341289, 0.43414035, 0.88390166, 0.30414169, 0.27414709],\n",
              "       [0.1762018 , 0.12522452, 0.80029712, 0.58383877, 0.90625895]])"
            ]
          },
          "execution_count": 10,
          "metadata": {},
          "output_type": "execute_result"
        }
      ],
      "source": [
        "np.random.rand(5,5)"
      ]
    },
    {
      "cell_type": "markdown",
      "metadata": {
        "id": "SaPo7n0cHHHT"
      },
      "source": [
        "### randn\n",
        "\n",
        "Devuelve una muestra (o muestras) de la distribución \"normal estándar\". A diferencia de rand, que es uniforme:"
      ]
    },
    {
      "cell_type": "code",
      "execution_count": null,
      "metadata": {
        "id": "Q3i6bniMHHHU",
        "outputId": "6d653835-687a-47c2-ab3d-f5ddd3e3b384"
      },
      "outputs": [
        {
          "data": {
            "text/plain": [
              "array([-1.370517  ,  0.44368468])"
            ]
          },
          "execution_count": 11,
          "metadata": {},
          "output_type": "execute_result"
        }
      ],
      "source": [
        "np.random.randn(2)"
      ]
    },
    {
      "cell_type": "code",
      "execution_count": null,
      "metadata": {
        "id": "WGt5bdhZHHHU",
        "outputId": "ed94bd26-f1f2-4ba4-93ce-d3f6a02a4c2a"
      },
      "outputs": [
        {
          "data": {
            "text/plain": [
              "array([[ 0.70123747, -0.98758783, -0.99364122,  0.31108749,  0.02747188],\n",
              "       [-0.64279661,  0.90710032,  0.8573897 ,  1.44792595, -1.10047301],\n",
              "       [-0.2917708 , -1.74888705, -0.15984124,  0.00356483, -1.17437163],\n",
              "       [-0.61352307,  0.76565373, -1.64502941, -0.51753394,  0.45031242],\n",
              "       [-1.98253357, -0.64716227, -0.63869684,  0.19729062,  0.30171275]])"
            ]
          },
          "execution_count": 12,
          "metadata": {},
          "output_type": "execute_result"
        }
      ],
      "source": [
        "np.random.randn(5,5)"
      ]
    },
    {
      "cell_type": "markdown",
      "metadata": {
        "id": "pnGCqg34HHHU"
      },
      "source": [
        "### randint\n",
        "Devuelve enteros aleatorios desde `low` (inclusive) hasta `high` (exclusivo)."
      ]
    },
    {
      "cell_type": "code",
      "execution_count": null,
      "metadata": {
        "id": "wl2webIsHHHU",
        "outputId": "e07d1ee0-0566-48ec-e3d5-1591ccfec949"
      },
      "outputs": [
        {
          "data": {
            "text/plain": [
              "8"
            ]
          },
          "execution_count": 13,
          "metadata": {},
          "output_type": "execute_result"
        }
      ],
      "source": [
        "np.random.randint(1,100)"
      ]
    },
    {
      "cell_type": "code",
      "execution_count": null,
      "metadata": {
        "id": "pRic146fHHHU",
        "outputId": "b6061659-418b-4033-ff16-77b420a5b49c"
      },
      "outputs": [
        {
          "data": {
            "text/plain": [
              "array([46, 57,  6, 83, 32,  8, 97,  2,  7, 77])"
            ]
          },
          "execution_count": 14,
          "metadata": {},
          "output_type": "execute_result"
        }
      ],
      "source": [
        "np.random.randint(1,100,10)"
      ]
    },
    {
      "cell_type": "markdown",
      "metadata": {
        "id": "EZSm-OBhHHHU"
      },
      "source": [
        "## Array Attributes and Methods\n",
        "\n",
        "Analicemos algunos atributos y métodos útiles o una matriz:"
      ]
    },
    {
      "cell_type": "code",
      "execution_count": null,
      "metadata": {
        "id": "iDsEJXgCHHHU"
      },
      "outputs": [],
      "source": [
        "arr = np.arange(25)\n",
        "ranarr = np.random.randint(0,50,10)"
      ]
    },
    {
      "cell_type": "code",
      "execution_count": null,
      "metadata": {
        "id": "T9SpTN19HHHU",
        "outputId": "66a84332-10ec-41fc-9e5b-88aa6e4b7ad4"
      },
      "outputs": [
        {
          "data": {
            "text/plain": [
              "array([ 0,  1,  2,  3,  4,  5,  6,  7,  8,  9, 10, 11, 12, 13, 14, 15, 16,\n",
              "       17, 18, 19, 20, 21, 22, 23, 24])"
            ]
          },
          "execution_count": 24,
          "metadata": {},
          "output_type": "execute_result"
        }
      ],
      "source": [
        "arr"
      ]
    },
    {
      "cell_type": "code",
      "execution_count": null,
      "metadata": {
        "id": "n1cZ8OekHHHU",
        "outputId": "1978bfa0-992a-4356-8652-3e11e81b3782"
      },
      "outputs": [
        {
          "data": {
            "text/plain": [
              "array([33, 25,  7, 15, 32, 32, 45, 27,  8, 15])"
            ]
          },
          "execution_count": 25,
          "metadata": {},
          "output_type": "execute_result"
        }
      ],
      "source": [
        "ranarr"
      ]
    },
    {
      "cell_type": "markdown",
      "metadata": {
        "id": "MwlATV4EHHHU"
      },
      "source": [
        "## Reshape\n",
        "Devuelve una matriz que contiene los mismos datos con una nueva forma."
      ]
    },
    {
      "cell_type": "code",
      "execution_count": null,
      "metadata": {
        "id": "Bip6bblcHHHU",
        "outputId": "f06c4cb9-3dba-48f3-8804-24c6c0d20c3f"
      },
      "outputs": [
        {
          "data": {
            "text/plain": [
              "array([[ 0,  1,  2,  3,  4],\n",
              "       [ 5,  6,  7,  8,  9],\n",
              "       [10, 11, 12, 13, 14],\n",
              "       [15, 16, 17, 18, 19],\n",
              "       [20, 21, 22, 23, 24]])"
            ]
          },
          "execution_count": 27,
          "metadata": {},
          "output_type": "execute_result"
        }
      ],
      "source": [
        "arr.reshape(5,5)"
      ]
    },
    {
      "cell_type": "markdown",
      "metadata": {
        "id": "trAeWDotHHHV"
      },
      "source": [
        "### max,min,argmax,argmin\n",
        "\n",
        "Estos son métodos útiles para encontrar valores máximos o mínimos. O para encontrar sus ubicaciones de índice usando argmin o argmax"
      ]
    },
    {
      "cell_type": "code",
      "execution_count": null,
      "metadata": {
        "id": "RYFMw_IMHHHV",
        "outputId": "d55828d3-ca87-4b19-b36a-2df57abf2eec"
      },
      "outputs": [
        {
          "data": {
            "text/plain": [
              "array([33, 25,  7, 15, 32, 32, 45, 27,  8, 15])"
            ]
          },
          "execution_count": 29,
          "metadata": {},
          "output_type": "execute_result"
        }
      ],
      "source": [
        "ranarr"
      ]
    },
    {
      "cell_type": "code",
      "execution_count": null,
      "metadata": {
        "id": "BnroEk3fHHHV",
        "outputId": "0fcd2d62-72b7-45e4-bf9c-a72a107bafdf"
      },
      "outputs": [
        {
          "data": {
            "text/plain": [
              "45"
            ]
          },
          "execution_count": 30,
          "metadata": {},
          "output_type": "execute_result"
        }
      ],
      "source": [
        "ranarr.max()"
      ]
    },
    {
      "cell_type": "code",
      "execution_count": null,
      "metadata": {
        "id": "tmigrOFzHHHV",
        "outputId": "4c285411-a48d-43f5-b804-9e3c5cecb6f4"
      },
      "outputs": [
        {
          "data": {
            "text/plain": [
              "6"
            ]
          },
          "execution_count": 31,
          "metadata": {},
          "output_type": "execute_result"
        }
      ],
      "source": [
        "ranarr.argmax()"
      ]
    },
    {
      "cell_type": "code",
      "execution_count": null,
      "metadata": {
        "id": "De6Oh_xnHHHV",
        "outputId": "5bf4aaa6-253a-4e3f-8c3c-40fd11aeaf63"
      },
      "outputs": [
        {
          "data": {
            "text/plain": [
              "7"
            ]
          },
          "execution_count": 32,
          "metadata": {},
          "output_type": "execute_result"
        }
      ],
      "source": [
        "ranarr.min()"
      ]
    },
    {
      "cell_type": "code",
      "execution_count": null,
      "metadata": {
        "id": "JGsYCjneHHHV",
        "outputId": "93a7c4b4-f75b-455e-b676-84fb9622e825"
      },
      "outputs": [
        {
          "data": {
            "text/plain": [
              "2"
            ]
          },
          "execution_count": 33,
          "metadata": {},
          "output_type": "execute_result"
        }
      ],
      "source": [
        "ranarr.argmin()"
      ]
    },
    {
      "cell_type": "markdown",
      "metadata": {
        "id": "EGCoXkGPHHHW"
      },
      "source": [
        "## Shape\n",
        "\n",
        "La forma es un atributo que tienen las matrices (no un método):"
      ]
    },
    {
      "cell_type": "code",
      "execution_count": null,
      "metadata": {
        "id": "Zmhhlq-7HHHW",
        "outputId": "74b62033-5a8c-4187-f01b-5c08aad6b750"
      },
      "outputs": [
        {
          "data": {
            "text/plain": [
              "(25,)"
            ]
          },
          "execution_count": 24,
          "metadata": {},
          "output_type": "execute_result"
        }
      ],
      "source": [
        "# Vector\n",
        "arr.shape"
      ]
    },
    {
      "cell_type": "code",
      "execution_count": null,
      "metadata": {
        "id": "2zkwqik1HHHW",
        "outputId": "9220550c-998c-49f3-8895-f1c0de5097a8"
      },
      "outputs": [
        {
          "data": {
            "text/plain": [
              "array([[ 0,  1,  2,  3,  4,  5,  6,  7,  8,  9, 10, 11, 12, 13, 14, 15,\n",
              "        16, 17, 18, 19, 20, 21, 22, 23, 24]])"
            ]
          },
          "execution_count": 25,
          "metadata": {},
          "output_type": "execute_result"
        }
      ],
      "source": [
        "# Observe los dos conjuntos de corchetes\n",
        "arr.reshape(1,25)"
      ]
    },
    {
      "cell_type": "code",
      "execution_count": null,
      "metadata": {
        "id": "vXCjgZtpHHHW",
        "outputId": "a4e73828-c0d8-4d3c-e1bb-c3cce8165949"
      },
      "outputs": [
        {
          "data": {
            "text/plain": [
              "(1, 25)"
            ]
          },
          "execution_count": 15,
          "metadata": {},
          "output_type": "execute_result"
        }
      ],
      "source": [
        "arr.reshape(1,25).shape"
      ]
    },
    {
      "cell_type": "code",
      "execution_count": null,
      "metadata": {
        "id": "gy6C-O_pHHHW",
        "outputId": "f51a37fa-0a43-41fa-f4b4-de843d3fa565"
      },
      "outputs": [
        {
          "data": {
            "text/plain": [
              "array([[ 0],\n",
              "       [ 1],\n",
              "       [ 2],\n",
              "       [ 3],\n",
              "       [ 4],\n",
              "       [ 5],\n",
              "       [ 6],\n",
              "       [ 7],\n",
              "       [ 8],\n",
              "       [ 9],\n",
              "       [10],\n",
              "       [11],\n",
              "       [12],\n",
              "       [13],\n",
              "       [14],\n",
              "       [15],\n",
              "       [16],\n",
              "       [17],\n",
              "       [18],\n",
              "       [19],\n",
              "       [20],\n",
              "       [21],\n",
              "       [22],\n",
              "       [23],\n",
              "       [24]])"
            ]
          },
          "execution_count": 16,
          "metadata": {},
          "output_type": "execute_result"
        }
      ],
      "source": [
        "arr.reshape(25,1)"
      ]
    },
    {
      "cell_type": "code",
      "execution_count": null,
      "metadata": {
        "id": "Be5udR3MHHHW",
        "outputId": "312fa5ad-b34a-42f0-a99c-02391cf12339"
      },
      "outputs": [
        {
          "data": {
            "text/plain": [
              "(25, 1)"
            ]
          },
          "execution_count": 28,
          "metadata": {},
          "output_type": "execute_result"
        }
      ],
      "source": [
        "arr.reshape(25,1).shape"
      ]
    },
    {
      "cell_type": "markdown",
      "metadata": {
        "id": "DcGQ5kx3HHHW"
      },
      "source": [
        "### dtype\n",
        "\n",
        "También puedes conocer el tipo de datos del objeto en la matriz:"
      ]
    },
    {
      "cell_type": "code",
      "execution_count": null,
      "metadata": {
        "id": "EPwVt2PDHHHW",
        "outputId": "b69e27ce-6da5-4308-9892-4aae329b5e49"
      },
      "outputs": [
        {
          "data": {
            "text/plain": [
              "dtype('int32')"
            ]
          },
          "execution_count": 34,
          "metadata": {},
          "output_type": "execute_result"
        },
        {
          "ename": "",
          "evalue": "",
          "output_type": "error",
          "traceback": [
            "\u001b[1;31mEl Kernel se bloqueó al ejecutar código en la celda actual o en una celda anterior. Revise el código de las celdas para identificar una posible causa del error. Haga clic <a href='https://aka.ms/vscodeJupyterKernelCrash'>aquí</a> para obtener más información. Vea el [registro] de Jupyter (command:jupyter.viewOutput) para obtener más detalles."
          ]
        }
      ],
      "source": [
        "arr.dtype"
      ]
    },
    {
      "cell_type": "markdown",
      "metadata": {
        "id": "laen4OQ-HHHW"
      },
      "source": [
        "# Buen trabajo!"
      ]
    }
  ],
  "metadata": {
    "kernelspec": {
      "display_name": "Python 3",
      "language": "python",
      "name": "python3"
    },
    "language_info": {
      "codemirror_mode": {
        "name": "ipython",
        "version": 3
      },
      "file_extension": ".py",
      "mimetype": "text/x-python",
      "name": "python",
      "nbconvert_exporter": "python",
      "pygments_lexer": "ipython3",
      "version": "3.12.4"
    },
    "colab": {
      "provenance": [],
      "include_colab_link": true
    }
  },
  "nbformat": 4,
  "nbformat_minor": 0
}