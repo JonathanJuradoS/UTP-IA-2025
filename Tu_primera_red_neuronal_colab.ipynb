{
  "cells": [
    {
      "cell_type": "markdown",
      "metadata": {
        "id": "view-in-github",
        "colab_type": "text"
      },
      "source": [
        "<a href=\"https://colab.research.google.com/github/JonathanJuradoS/UTP-IA-2025/blob/main/Tu_primera_red_neuronal_colab.ipynb\" target=\"_parent\"><img src=\"https://colab.research.google.com/assets/colab-badge.svg\" alt=\"Open In Colab\"/></a>"
      ]
    },
    {
      "cell_type": "markdown",
      "id": "c77961d7",
      "metadata": {
        "id": "c77961d7"
      },
      "source": [
        "# 🧠 Tu primera red neuronal con Python y TensorFlow\n",
        "Versión documentada para Google Colab"
      ]
    },
    {
      "cell_type": "markdown",
      "id": "1b33c05f",
      "metadata": {
        "id": "1b33c05f"
      },
      "source": [
        "## 📦 Paso 1: Importar librerías necesarias\n",
        "```python\n",
        "import tensorflow as tf\n",
        "import numpy as np\n",
        "```\n",
        "**Explicación:**\n",
        "- TensorFlow es una librería para construir y entrenar modelos de machine learning.\n",
        "- NumPy se utiliza para el manejo eficiente de arreglos numéricos."
      ]
    },
    {
      "cell_type": "code",
      "execution_count": 1,
      "id": "036432be",
      "metadata": {
        "id": "036432be"
      },
      "outputs": [],
      "source": [
        "import tensorflow as tf\n",
        "import numpy as np"
      ]
    },
    {
      "cell_type": "markdown",
      "id": "d1c75a63",
      "metadata": {
        "id": "d1c75a63"
      },
      "source": [
        "## 🌡️ Paso 2: Datos de entrenamiento\n",
        "**Objetivo:** Entrenar un modelo que convierta grados Celsius a Fahrenheit."
      ]
    },
    {
      "cell_type": "code",
      "execution_count": 2,
      "id": "4e52808e",
      "metadata": {
        "id": "4e52808e"
      },
      "outputs": [],
      "source": [
        "celsius = np.array([-40, -10, 0, 8, 15, 22, 38], dtype=float)\n",
        "fahrenheit = np.array([-40, 14, 32, 46, 59, 72, 100], dtype=float)"
      ]
    },
    {
      "cell_type": "markdown",
      "id": "d38434fd",
      "metadata": {
        "id": "d38434fd"
      },
      "source": [
        "## 🏗️ Paso 3: Crear el modelo\n",
        "Creamos una red neuronal con 2 capas ocultas de 3 neuronas y una capa de salida de 1 neurona."
      ]
    },
    {
      "cell_type": "code",
      "execution_count": 3,
      "id": "e762f420",
      "metadata": {
        "colab": {
          "base_uri": "https://localhost:8080/"
        },
        "id": "e762f420",
        "outputId": "12e1c431-b6f3-44a1-e89a-3c54334715c7"
      },
      "outputs": [
        {
          "output_type": "stream",
          "name": "stderr",
          "text": [
            "/usr/local/lib/python3.11/dist-packages/keras/src/layers/core/dense.py:87: UserWarning: Do not pass an `input_shape`/`input_dim` argument to a layer. When using Sequential models, prefer using an `Input(shape)` object as the first layer in the model instead.\n",
            "  super().__init__(activity_regularizer=activity_regularizer, **kwargs)\n"
          ]
        }
      ],
      "source": [
        "oculta1 = tf.keras.layers.Dense(units=3, input_shape=[1])\n",
        "oculta2 = tf.keras.layers.Dense(units=3)\n",
        "salida = tf.keras.layers.Dense(units=1)\n",
        "modelo = tf.keras.Sequential([oculta1, oculta2, salida])"
      ]
    },
    {
      "cell_type": "markdown",
      "id": "5171931d",
      "metadata": {
        "id": "5171931d"
      },
      "source": [
        "## ⚙️ Paso 4: Compilar el modelo\n",
        "**Optimizador:** Adam con tasa de aprendizaje 0.1\n",
        "**Pérdida:** Error cuadrático medio (MSE)"
      ]
    },
    {
      "cell_type": "code",
      "execution_count": 4,
      "id": "3dfb1b54",
      "metadata": {
        "id": "3dfb1b54"
      },
      "outputs": [],
      "source": [
        "modelo.compile(\n",
        "    optimizer=tf.keras.optimizers.Adam(0.1),\n",
        "    loss='mean_squared_error'\n",
        ")"
      ]
    },
    {
      "cell_type": "markdown",
      "id": "759e25b0",
      "metadata": {
        "id": "759e25b0"
      },
      "source": [
        "## 🏋️‍♂️ Paso 5: Entrenar el modelo\n",
        "**Epochs:** Número de veces que el modelo pasa por todos los datos de entrenamiento."
      ]
    },
    {
      "cell_type": "code",
      "execution_count": 5,
      "id": "6211009b",
      "metadata": {
        "colab": {
          "base_uri": "https://localhost:8080/"
        },
        "id": "6211009b",
        "outputId": "66274247-29af-475d-ad92-2a23d51bbe72"
      },
      "outputs": [
        {
          "output_type": "stream",
          "name": "stdout",
          "text": [
            "Modelo entrenado.\n"
          ]
        }
      ],
      "source": [
        "historial = modelo.fit(celsius, fahrenheit, epochs=1000, verbose=False)\n",
        "print(\"Modelo entrenado.\")"
      ]
    },
    {
      "cell_type": "markdown",
      "id": "5195db5c",
      "metadata": {
        "id": "5195db5c"
      },
      "source": [
        "## 📉 Paso 6: Visualizar la pérdida durante el entrenamiento"
      ]
    },
    {
      "cell_type": "code",
      "execution_count": 6,
      "id": "3ed734cb",
      "metadata": {
        "colab": {
          "base_uri": "https://localhost:8080/",
          "height": 467
        },
        "id": "3ed734cb",
        "outputId": "8fca4f61-5d08-43c2-aa9b-3a6676004c53"
      },
      "outputs": [
        {
          "output_type": "execute_result",
          "data": {
            "text/plain": [
              "[<matplotlib.lines.Line2D at 0x7946c5253e50>]"
            ]
          },
          "metadata": {},
          "execution_count": 6
        },
        {
          "output_type": "display_data",
          "data": {
            "text/plain": [
              "<Figure size 640x480 with 1 Axes>"
            ],
            "image/png": "[encoded data removed]"
          },
          "metadata": {}
        }
      ],
      "source": [
        "import matplotlib.pyplot as plt\n",
        "plt.xlabel(\"Epoch\")\n",
        "plt.ylabel(\"Pérdida (Loss)\")\n",
        "plt.plot(historial.history['loss'])"
      ]
    },
    {
      "cell_type": "markdown",
      "id": "355b3b5d",
      "metadata": {
        "id": "355b3b5d"
      },
      "source": [
        "## 🔍 Paso 7: Hacer predicciones"
      ]
    },
    {
      "cell_type": "code",
      "execution_count": 11,
      "id": "56c16739",
      "metadata": {
        "colab": {
          "base_uri": "https://localhost:8080/"
        },
        "id": "56c16739",
        "outputId": "0beec94d-92bc-467e-b312-b5dcf09176aa"
      },
      "outputs": [
        {
          "output_type": "stream",
          "name": "stdout",
          "text": [
            "\u001b[1m1/1\u001b[0m \u001b[32m━━━━━━━━━━━━━━━━━━━━\u001b[0m\u001b[37m\u001b[0m \u001b[1m0s\u001b[0m 32ms/step\n",
            "Predicción de 100 °C en Fahrenheit: 211.74748\n",
            "Predicción Entera de 100 °C en Fahrenheit: 212\n"
          ]
        }
      ],
      "source": [
        "resultado = modelo.predict(np.array([100.0]))\n",
        "print(\"Predicción de 100 °C en Fahrenheit:\", resultado[0][0])\n",
        "\n",
        "prediccion_entera = int(round(resultado[0][0]))\n",
        "print(\"Predicción Entera de 100 °C en Fahrenheit:\", prediccion_entera)"
      ]
    },
    {
      "cell_type": "markdown",
      "id": "084ebdab",
      "metadata": {
        "id": "084ebdab"
      },
      "source": [
        "## 🔬 Paso 8: Ver los pesos aprendidos"
      ]
    },
    {
      "cell_type": "code",
      "execution_count": 12,
      "id": "ccfbdbbe",
      "metadata": {
        "colab": {
          "base_uri": "https://localhost:8080/"
        },
        "id": "ccfbdbbe",
        "outputId": "e2a06fbe-78e4-4d33-f764-e9663ef10393"
      },
      "outputs": [
        {
          "output_type": "stream",
          "name": "stdout",
          "text": [
            "Pesos de la capa oculta 1:\n",
            "[array([[ 0.5634283 , -0.33681297, -0.2272757 ]], dtype=float32), array([ 3.8362815, -3.8156936, -3.7435398], dtype=float32)]\n",
            "Pesos de la capa oculta 2:\n",
            "[array([[-0.06323458, -0.66978663,  0.98636615],\n",
            "       [ 0.46080023,  0.42535305, -0.76928353],\n",
            "       [-0.85330385,  1.3262914 , -0.37471873]], dtype=float32), array([ 3.162139 , -3.7501168,  3.803287 ], dtype=float32)]\n",
            "Pesos de la capa de salida:\n",
            "[array([[ 0.3968285 ],\n",
            "       [-1.3598284 ],\n",
            "       [ 0.75425017]], dtype=float32), array([3.677165], dtype=float32)]\n"
          ]
        }
      ],
      "source": [
        "print(\"Pesos de la capa oculta 1:\")\n",
        "print(oculta1.get_weights())\n",
        "\n",
        "print(\"Pesos de la capa oculta 2:\")\n",
        "print(oculta2.get_weights())\n",
        "\n",
        "print(\"Pesos de la capa de salida:\")\n",
        "print(salida.get_weights())"
      ]
    },
    {
      "cell_type": "markdown",
      "id": "639a40c4",
      "metadata": {
        "id": "639a40c4"
      },
      "source": [
        "## ✅ Conclusión\n",
        "- Implementamos una red neuronal simple para convertir Celsius a Fahrenheit.\n",
        "- Aprendimos sobre capas densas, compilación, entrenamiento y visualización del proceso.\n",
        "- ¡Este es solo el comienzo del mundo del deep learning con TensorFlow!"
      ]
    }
  ],
  "metadata": {
    "colab": {
      "provenance": [],
      "include_colab_link": true
    },
    "language_info": {
      "name": "python"
    },
    "kernelspec": {
      "name": "python3",
      "display_name": "Python 3"
    }
  },
  "nbformat": 4,
  "nbformat_minor": 5
}