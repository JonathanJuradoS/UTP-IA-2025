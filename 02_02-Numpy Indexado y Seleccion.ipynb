{
  "cells": [
    {
      "cell_type": "markdown",
      "metadata": {
        "id": "view-in-github",
        "colab_type": "text"
      },
      "source": [
        "<a href=\"https://colab.research.google.com/github/JonathanJuradoS/UTP-IA-2025/blob/main/02_02-Numpy%20Indexado%20y%20Seleccion.ipynb\" target=\"_parent\"><img src=\"https://colab.research.google.com/assets/colab-badge.svg\" alt=\"Open In Colab\"/></a>"
      ]
    },
    {
      "cell_type": "markdown",
      "metadata": {
        "id": "6xQjO70sLoyl"
      },
      "source": [
        "___\n",
        "\n",
        "<a href='https://jupyter-notebook.readthedocs.io/en/stable/examples/Notebook/Running%20Code.html'> <img src='https://www.python.org/static/img/python-logo.png' /></a>\n",
        "___"
      ]
    },
    {
      "cell_type": "markdown",
      "metadata": {
        "id": "obM7CFmbLoym"
      },
      "source": [
        "# NumPy Indexado y Selección\n",
        "\n",
        "En esta lección veremos cómo seleccionar elementos o grupos de elementos de una matriz."
      ]
    },
    {
      "cell_type": "code",
      "execution_count": null,
      "metadata": {
        "id": "tVw4Mm44Loyn"
      },
      "outputs": [],
      "source": [
        "import numpy as np"
      ]
    },
    {
      "cell_type": "code",
      "execution_count": null,
      "metadata": {
        "id": "_bAnfigVLoyn"
      },
      "outputs": [],
      "source": [
        "#Creando una matriz de muestra\n",
        "arr = np.arange(0,11)"
      ]
    },
    {
      "cell_type": "code",
      "execution_count": null,
      "metadata": {
        "id": "hGHig3pWLoyo",
        "outputId": "4e950668-4f37-46f6-b354-213af89d0d4d"
      },
      "outputs": [
        {
          "data": {
            "text/plain": [
              "array([ 0,  1,  2,  3,  4,  5,  6,  7,  8,  9, 10])"
            ]
          },
          "execution_count": 5,
          "metadata": {},
          "output_type": "execute_result"
        }
      ],
      "source": [
        "#Show\n",
        "arr"
      ]
    },
    {
      "cell_type": "markdown",
      "metadata": {
        "id": "0UDhQYwjLoyo"
      },
      "source": [
        "## Selección e indexación de soportes\n",
        "La forma más sencilla de elegir uno o algunos elementos de una matriz es muy similar a las listas de Python:"
      ]
    },
    {
      "cell_type": "code",
      "execution_count": null,
      "metadata": {
        "id": "n057l5foLoyp",
        "outputId": "38eef5a4-2e57-4dc6-9a9f-07ebfd72e165"
      },
      "outputs": [
        {
          "data": {
            "text/plain": [
              "8"
            ]
          },
          "execution_count": 6,
          "metadata": {},
          "output_type": "execute_result"
        }
      ],
      "source": [
        "#Obtenga un valor en un índice\n",
        "arr[8]"
      ]
    },
    {
      "cell_type": "code",
      "execution_count": null,
      "metadata": {
        "id": "52f4_YrPLoyp",
        "outputId": "c70de5d0-69bd-44e8-8d69-c648d0a5b645"
      },
      "outputs": [
        {
          "data": {
            "text/plain": [
              "array([1, 2, 3, 4])"
            ]
          },
          "execution_count": 7,
          "metadata": {},
          "output_type": "execute_result"
        }
      ],
      "source": [
        "#Obtener valores en un rango\n",
        "arr[1:5]"
      ]
    },
    {
      "cell_type": "code",
      "execution_count": null,
      "metadata": {
        "id": "4mr7LCNxLoyp",
        "outputId": "e106df5d-da87-4983-e233-7467692399e1"
      },
      "outputs": [
        {
          "data": {
            "text/plain": [
              "array([0, 1, 2, 3, 4])"
            ]
          },
          "execution_count": 8,
          "metadata": {},
          "output_type": "execute_result"
        }
      ],
      "source": [
        "#Obtener valores en un rango\n",
        "arr[0:5]"
      ]
    },
    {
      "cell_type": "markdown",
      "metadata": {
        "id": "IiYBYCilLoyp"
      },
      "source": [
        "## Broadcasting\n",
        "\n",
        "Las matrices Numpy difieren de una lista de Python normal debido a su capacidad para transmitir:"
      ]
    },
    {
      "cell_type": "code",
      "execution_count": null,
      "metadata": {
        "id": "D4cIXb4ELoyp",
        "outputId": "633f4907-ad59-4ade-b062-a937376982dc"
      },
      "outputs": [
        {
          "data": {
            "text/plain": [
              "array([100, 100, 100, 100, 100,   5,   6,   7,   8,   9,  10])"
            ]
          },
          "execution_count": 15,
          "metadata": {},
          "output_type": "execute_result"
        }
      ],
      "source": [
        "#Establecer un valor con rango de índice (Broadcasting)\n",
        "arr[0:5]=100\n",
        "\n",
        "#Show\n",
        "arr"
      ]
    },
    {
      "cell_type": "code",
      "execution_count": null,
      "metadata": {
        "id": "Zcykv4YALoyq",
        "outputId": "b6b9876c-4567-409a-eb8d-0e349db71dcc"
      },
      "outputs": [
        {
          "data": {
            "text/plain": [
              "array([ 0,  1,  2,  3,  4,  5,  6,  7,  8,  9, 10])"
            ]
          },
          "execution_count": 11,
          "metadata": {},
          "output_type": "execute_result"
        }
      ],
      "source": [
        "# Restablecer matriz, veremos por qué se tuvo que restablecer en un momento\n",
        "arr = np.arange(0,11)\n",
        "\n",
        "#Show\n",
        "arr"
      ]
    },
    {
      "cell_type": "code",
      "execution_count": null,
      "metadata": {
        "id": "0s-B5RqALoyq",
        "outputId": "aa5b0972-5d72-449f-ac31-7f9167d585fd"
      },
      "outputs": [
        {
          "data": {
            "text/plain": [
              "array([0, 1, 2, 3, 4, 5])"
            ]
          },
          "execution_count": 12,
          "metadata": {},
          "output_type": "execute_result"
        }
      ],
      "source": [
        "#Notas importantes sobre Slices\n",
        "slice_of_arr = arr[0:6]\n",
        "\n",
        "#Mostrar slice\n",
        "slice_of_arr"
      ]
    },
    {
      "cell_type": "code",
      "execution_count": null,
      "metadata": {
        "id": "t7abkeJ3Loyq",
        "outputId": "52acce74-acc1-4585-bc22-efa0e924d7a8"
      },
      "outputs": [
        {
          "data": {
            "text/plain": [
              "array([99, 99, 99, 99, 99, 99])"
            ]
          },
          "execution_count": 12,
          "metadata": {},
          "output_type": "execute_result"
        }
      ],
      "source": [
        "#Cambiar Slice\n",
        "slice_of_arr[:]=99\n",
        "\n",
        "#Mostrar Slice nuevamente\n",
        "slice_of_arr"
      ]
    },
    {
      "cell_type": "markdown",
      "metadata": {
        "id": "ltu5-KtRLoyq"
      },
      "source": [
        "¡Ahora tener en cuenta que los cambios también ocurren en nuestra matriz original!"
      ]
    },
    {
      "cell_type": "code",
      "execution_count": null,
      "metadata": {
        "id": "qEF15E4fLoyq",
        "outputId": "86fcd5a3-dcda-42c4-c45e-a6f0db8f6ea6"
      },
      "outputs": [
        {
          "data": {
            "text/plain": [
              "array([99, 99, 99, 99, 99, 99,  6,  7,  8,  9, 10])"
            ]
          },
          "execution_count": 13,
          "metadata": {},
          "output_type": "execute_result"
        }
      ],
      "source": [
        "arr"
      ]
    },
    {
      "cell_type": "markdown",
      "metadata": {
        "id": "ndJOya6BLoyq"
      },
      "source": [
        "Los datos no se copian, es una vista de la matriz original. ¡Esto evita problemas de memoria!"
      ]
    },
    {
      "cell_type": "code",
      "execution_count": null,
      "metadata": {
        "id": "lFbzUCdsLoyq",
        "outputId": "c91d4336-d994-4563-baae-234a118abdbd"
      },
      "outputs": [
        {
          "data": {
            "text/plain": [
              "array([99, 99, 99, 99, 99, 99,  6,  7,  8,  9, 10])"
            ]
          },
          "execution_count": 14,
          "metadata": {},
          "output_type": "execute_result"
        }
      ],
      "source": [
        "#Para obtener una copia, debe ser explícito\n",
        "arr_copy = arr.copy()\n",
        "\n",
        "arr_copy"
      ]
    },
    {
      "cell_type": "markdown",
      "metadata": {
        "id": "McqP_JriLoyr"
      },
      "source": [
        "## Indexando un array a 2D  (matrices)\n",
        "\n",
        "La forma general es **arr_2d[row][col]** o **arr_2d[row,col]**. Por lo general, recomiendo usar la notación de coma para mayor claridad."
      ]
    },
    {
      "cell_type": "code",
      "execution_count": null,
      "metadata": {
        "id": "WW1KuZH4Loyr",
        "outputId": "28638231-a4d0-4e57-cebd-475406d8ac67"
      },
      "outputs": [
        {
          "data": {
            "text/plain": [
              "array([[ 5, 10, 15],\n",
              "       [20, 25, 30],\n",
              "       [35, 40, 45]])"
            ]
          },
          "execution_count": 14,
          "metadata": {},
          "output_type": "execute_result"
        }
      ],
      "source": [
        "arr_2d = np.array(([5,10,15],[20,25,30],[35,40,45]))\n",
        "\n",
        "#Show\n",
        "arr_2d"
      ]
    },
    {
      "cell_type": "code",
      "execution_count": null,
      "metadata": {
        "id": "_e3NVgH1Loyr",
        "outputId": "9b25ebd0-9ee6-45ea-8aa7-59c188ddfd4e"
      },
      "outputs": [
        {
          "data": {
            "text/plain": [
              "array([20, 25, 30])"
            ]
          },
          "execution_count": 16,
          "metadata": {},
          "output_type": "execute_result"
        }
      ],
      "source": [
        "#Indexando fila\n",
        "arr_2d[1]\n"
      ]
    },
    {
      "cell_type": "code",
      "execution_count": null,
      "metadata": {
        "id": "GCIPtG0cLoyr",
        "outputId": "85f4844b-cf0e-4d3d-8f11-3e769c166edf"
      },
      "outputs": [
        {
          "data": {
            "text/plain": [
              "20"
            ]
          },
          "execution_count": 17,
          "metadata": {},
          "output_type": "execute_result"
        }
      ],
      "source": [
        "# Formaato es arr_2d[row][col] o arr_2d[row,col]\n",
        "\n",
        "# Obtener valor de elemento individual\n",
        "arr_2d[1][0]"
      ]
    },
    {
      "cell_type": "code",
      "execution_count": null,
      "metadata": {
        "id": "TXN8ilV6Loyr",
        "outputId": "917b522d-70cc-44ee-d1bf-61685f9840f0"
      },
      "outputs": [
        {
          "data": {
            "text/plain": [
              "array([[10, 15],\n",
              "       [25, 30]])"
            ]
          },
          "execution_count": 19,
          "metadata": {},
          "output_type": "execute_result"
        }
      ],
      "source": [
        "# 2D array slicing\n",
        "\n",
        "#Forma (2,2) desde la esquina superior derecha\n",
        "arr_2d[:2,1:]"
      ]
    },
    {
      "cell_type": "code",
      "execution_count": null,
      "metadata": {
        "id": "VVoZOQJYLoyr",
        "outputId": "f742873f-416a-4b80-81c7-cfe3430eebf3"
      },
      "outputs": [
        {
          "data": {
            "text/plain": [
              "array([35, 40, 45])"
            ]
          },
          "execution_count": 20,
          "metadata": {},
          "output_type": "execute_result"
        }
      ],
      "source": [
        "#Forma fila inferior\n",
        "arr_2d[2]"
      ]
    },
    {
      "cell_type": "code",
      "execution_count": null,
      "metadata": {
        "id": "UPrbyIsBLoyr",
        "outputId": "8a487da1-7f30-4a2d-b460-57cf6f8a8a53"
      },
      "outputs": [
        {
          "data": {
            "text/plain": [
              "array([35, 40, 45])"
            ]
          },
          "execution_count": 21,
          "metadata": {},
          "output_type": "execute_result"
        }
      ],
      "source": [
        "#Forma fila inferior\n",
        "arr_2d[2,:]"
      ]
    },
    {
      "cell_type": "markdown",
      "metadata": {
        "id": "o_nGj4U0Loyr"
      },
      "source": [
        "### Indexacion Elegante\n",
        "\n",
        "La indexación elegante le permite seleccionar filas o columnas enteras fuera de orden, para mostrar esto, construyamos rápidamente una matriz numpy:"
      ]
    },
    {
      "cell_type": "code",
      "execution_count": null,
      "metadata": {
        "id": "IBe-5g1lLoyr"
      },
      "outputs": [],
      "source": [
        "#Construimos una matriz\n",
        "arr2d = np.zeros((10,10))"
      ]
    },
    {
      "cell_type": "code",
      "execution_count": null,
      "metadata": {
        "id": "nam8H2UtLoyr"
      },
      "outputs": [],
      "source": [
        "#Longitud de la matriz\n",
        "arr_length = arr2d.shape[1]"
      ]
    },
    {
      "cell_type": "code",
      "execution_count": null,
      "metadata": {
        "id": "414ZsVbdLoyr",
        "outputId": "adf872bc-d6b2-4810-bdfd-b48c70ec5311"
      },
      "outputs": [
        {
          "data": {
            "text/plain": [
              "array([[0., 0., 0., 0., 0., 0., 0., 0., 0., 0.],\n",
              "       [1., 1., 1., 1., 1., 1., 1., 1., 1., 1.],\n",
              "       [2., 2., 2., 2., 2., 2., 2., 2., 2., 2.],\n",
              "       [3., 3., 3., 3., 3., 3., 3., 3., 3., 3.],\n",
              "       [4., 4., 4., 4., 4., 4., 4., 4., 4., 4.],\n",
              "       [5., 5., 5., 5., 5., 5., 5., 5., 5., 5.],\n",
              "       [6., 6., 6., 6., 6., 6., 6., 6., 6., 6.],\n",
              "       [7., 7., 7., 7., 7., 7., 7., 7., 7., 7.],\n",
              "       [8., 8., 8., 8., 8., 8., 8., 8., 8., 8.],\n",
              "       [9., 9., 9., 9., 9., 9., 9., 9., 9., 9.]])"
            ]
          },
          "execution_count": 18,
          "metadata": {},
          "output_type": "execute_result"
        }
      ],
      "source": [
        "#Configurar matriz\n",
        "\n",
        "for i in range(arr_length):\n",
        "    arr2d[i] = i\n",
        "\n",
        "arr2d"
      ]
    },
    {
      "cell_type": "markdown",
      "metadata": {
        "id": "ztEJtsFnLoys"
      },
      "source": [
        "La indexación elegante permite lo siguiente"
      ]
    },
    {
      "cell_type": "code",
      "execution_count": null,
      "metadata": {
        "id": "6wvfKZ7mLoys",
        "outputId": "7f9a0c64-9e15-4393-c8be-49c72d25cd64"
      },
      "outputs": [
        {
          "data": {
            "text/plain": [
              "array([[2., 2., 2., 2., 2., 2., 2., 2., 2., 2.],\n",
              "       [4., 4., 4., 4., 4., 4., 4., 4., 4., 4.],\n",
              "       [6., 6., 6., 6., 6., 6., 6., 6., 6., 6.],\n",
              "       [8., 8., 8., 8., 8., 8., 8., 8., 8., 8.]])"
            ]
          },
          "execution_count": 19,
          "metadata": {},
          "output_type": "execute_result"
        }
      ],
      "source": [
        "arr2d[[2,4,6,8]]"
      ]
    },
    {
      "cell_type": "code",
      "execution_count": null,
      "metadata": {
        "id": "2FlqQ7gfLoys",
        "outputId": "65b7900b-ab89-4367-d259-fbb7d923a80b"
      },
      "outputs": [
        {
          "data": {
            "text/plain": [
              "array([[6., 6., 6., 6., 6., 6., 6., 6., 6., 6.],\n",
              "       [4., 4., 4., 4., 4., 4., 4., 4., 4., 4.],\n",
              "       [2., 2., 2., 2., 2., 2., 2., 2., 2., 2.],\n",
              "       [7., 7., 7., 7., 7., 7., 7., 7., 7., 7.]])"
            ]
          },
          "execution_count": 20,
          "metadata": {},
          "output_type": "execute_result"
        }
      ],
      "source": [
        "#Permite en cualquier orden\n",
        "arr2d[[6,4,2,7]]"
      ]
    },
    {
      "cell_type": "markdown",
      "metadata": {
        "id": "SwTfbc5CLoys"
      },
      "source": [
        "## Selección\n",
        "\n",
        "Repasemos brevemente cómo usar los corchetes para la selección basada en operadores de comparación."
      ]
    },
    {
      "cell_type": "code",
      "execution_count": null,
      "metadata": {
        "id": "GsoNvwPQLoys",
        "outputId": "d31879fc-e9e6-4121-9a33-e48d08beba95"
      },
      "outputs": [
        {
          "data": {
            "text/plain": [
              "array([ 1,  2,  3,  4,  5,  6,  7,  8,  9, 10])"
            ]
          },
          "execution_count": 21,
          "metadata": {},
          "output_type": "execute_result"
        }
      ],
      "source": [
        "arr = np.arange(1,11)\n",
        "arr"
      ]
    },
    {
      "cell_type": "code",
      "execution_count": null,
      "metadata": {
        "id": "F7jaMvxhLoys",
        "outputId": "58f24130-837e-47f1-bdec-b9db0eaa0625"
      },
      "outputs": [
        {
          "data": {
            "text/plain": [
              "array([False, False, False, False,  True,  True,  True,  True,  True,\n",
              "        True])"
            ]
          },
          "execution_count": 22,
          "metadata": {},
          "output_type": "execute_result"
        }
      ],
      "source": [
        "arr > 4"
      ]
    },
    {
      "cell_type": "code",
      "execution_count": null,
      "metadata": {
        "id": "cd-pu7O8Loys"
      },
      "outputs": [],
      "source": [
        "bool_arr = arr>4"
      ]
    },
    {
      "cell_type": "code",
      "execution_count": null,
      "metadata": {
        "id": "HO7wazMJLoys",
        "outputId": "5cdf8f7a-84ea-4743-854d-716821dde5e1"
      },
      "outputs": [
        {
          "data": {
            "text/plain": [
              "array([False, False, False, False,  True,  True,  True,  True,  True,\n",
              "        True])"
            ]
          },
          "execution_count": 24,
          "metadata": {},
          "output_type": "execute_result"
        },
        {
          "ename": "",
          "evalue": "",
          "output_type": "error",
          "traceback": [
            "\u001b[1;31mEl Kernel se bloqueó al ejecutar código en la celda actual o en una celda anterior. Revise el código de las celdas para identificar una posible causa del error. Haga clic <a href='https://aka.ms/vscodeJupyterKernelCrash'>aquí</a> para obtener más información. Vea el [registro] de Jupyter (command:jupyter.viewOutput) para obtener más detalles."
          ]
        }
      ],
      "source": [
        "bool_arr"
      ]
    },
    {
      "cell_type": "code",
      "execution_count": null,
      "metadata": {
        "id": "IK83c7ELLoys",
        "outputId": "3c79f481-ab26-4288-a24c-d578900f986a"
      },
      "outputs": [
        {
          "data": {
            "text/plain": [
              "array([ 5,  6,  7,  8,  9, 10])"
            ]
          },
          "execution_count": 32,
          "metadata": {},
          "output_type": "execute_result"
        }
      ],
      "source": [
        "arr[bool_arr]"
      ]
    },
    {
      "cell_type": "code",
      "execution_count": null,
      "metadata": {
        "id": "1SjFtcDXLoys",
        "outputId": "0be60651-2248-455e-ffd6-89036569bea3"
      },
      "outputs": [
        {
          "data": {
            "text/plain": [
              "array([ 3,  4,  5,  6,  7,  8,  9, 10])"
            ]
          },
          "execution_count": 33,
          "metadata": {},
          "output_type": "execute_result"
        }
      ],
      "source": [
        "arr[arr>2]"
      ]
    },
    {
      "cell_type": "code",
      "execution_count": null,
      "metadata": {
        "id": "jeOURtaCLoyt",
        "outputId": "603fda7a-ad17-4d95-fca1-2a895ce0168d"
      },
      "outputs": [
        {
          "data": {
            "text/plain": [
              "array([ 3,  4,  5,  6,  7,  8,  9, 10])"
            ]
          },
          "execution_count": 34,
          "metadata": {},
          "output_type": "execute_result"
        }
      ],
      "source": [
        "x = 2\n",
        "arr[arr>x]"
      ]
    },
    {
      "cell_type": "markdown",
      "metadata": {
        "id": "MrRcXQdULoyt"
      },
      "source": [
        "# Great Job!\n"
      ]
    }
  ],
  "metadata": {
    "kernelspec": {
      "display_name": "Python 3",
      "language": "python",
      "name": "python3"
    },
    "language_info": {
      "codemirror_mode": {
        "name": "ipython",
        "version": 3
      },
      "file_extension": ".py",
      "mimetype": "text/x-python",
      "name": "python",
      "nbconvert_exporter": "python",
      "pygments_lexer": "ipython3",
      "version": "3.12.4"
    },
    "colab": {
      "provenance": [],
      "include_colab_link": true
    }
  },
  "nbformat": 4,
  "nbformat_minor": 0
}