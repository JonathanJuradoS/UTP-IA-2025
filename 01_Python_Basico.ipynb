{
  "cells": [
    {
      "cell_type": "markdown",
      "metadata": {
        "id": "viWxrPtLJhlL"
      },
      "source": [
        "___\n",
        "\n",
        "\n",
        "<img src='https://upload.wikimedia.org/wikipedia/commons/thumb/5/50/Utplogonuevo.svg/800px-Utplogonuevo.svg.png' with = 200, height = 100 />\n",
        "\n",
        "<a href='https://jupyter-notebook.readthedocs.io/en/stable/examples/Notebook/Running%20Code.html'> <img src='https://www.python.org/static/img/python-logo.png' /></a>\n",
        "___\n",
        "\n",
        "# Curso: Inteligencia Artificial\n",
        "\n",
        "# Docente: Mg. Jonathan A. Jurado Sandoval\n",
        "\n",
        "**Correo: C30837@utp.edu.pe**\n",
        "\n",
        "# Python Curso Básico\n",
        "\n",
        "**El estudiante que ya domina Python puede pasar a resolver los ejercicios propuestos**\n",
        "\n",
        "Este cuaderno solo repasará los temas básicos en el siguiente orden:\n",
        "\n",
        "* Tipo de datos\n",
        "    * Numeros\n",
        "    * Cadenas\n",
        "    * Impresión\n",
        "    * Listas\n",
        "    * Diccionarios\n",
        "    * Booleans\n",
        "    * Tuplas\n",
        "    * Conjuntos\n",
        "* Operadores de Comparación\n",
        "* Estamentos if, elif, else\n",
        "* Bucle for\n",
        "* Bucle while\n",
        "* range()\n",
        "* comprension de listas\n",
        "* funciones\n",
        "* expresiones lambda\n",
        "* map y filter\n",
        "* metodos\n",
        "____"
      ]
    },
    {
      "cell_type": "markdown",
      "metadata": {
        "id": "7F674LGpJhlO"
      },
      "source": [
        "## Tipo de Datos\n",
        "\n",
        "### Numeros"
      ]
    },
    {
      "cell_type": "code",
      "execution_count": null,
      "metadata": {
        "id": "tHyyI3NPJhlO",
        "outputId": "0b5b9fd3-f6cd-48a9-f39f-31383f1dd33f"
      },
      "outputs": [
        {
          "data": {
            "text/plain": [
              "2"
            ]
          },
          "execution_count": 1,
          "metadata": {},
          "output_type": "execute_result"
        }
      ],
      "source": [
        "1 + 1"
      ]
    },
    {
      "cell_type": "code",
      "execution_count": null,
      "metadata": {
        "id": "k0tXJlzTJhlR",
        "outputId": "870e21c5-021e-4e2a-e48a-1db20f4f8501"
      },
      "outputs": [
        {
          "data": {
            "text/plain": [
              "3"
            ]
          },
          "execution_count": 3,
          "metadata": {},
          "output_type": "execute_result"
        }
      ],
      "source": [
        "1 * 3"
      ]
    },
    {
      "cell_type": "code",
      "execution_count": null,
      "metadata": {
        "id": "BT4JahYqJhlR",
        "outputId": "e2280d65-88ab-4388-ad77-872c2577f15f"
      },
      "outputs": [
        {
          "data": {
            "text/plain": [
              "0.5"
            ]
          },
          "execution_count": 8,
          "metadata": {},
          "output_type": "execute_result"
        }
      ],
      "source": [
        "1 / 2"
      ]
    },
    {
      "cell_type": "code",
      "execution_count": null,
      "metadata": {
        "id": "oyeq4HM8JhlS",
        "outputId": "b922e210-c358-4f95-ebaf-6eba21647e99"
      },
      "outputs": [
        {
          "data": {
            "text/plain": [
              "16"
            ]
          },
          "execution_count": 9,
          "metadata": {},
          "output_type": "execute_result"
        }
      ],
      "source": [
        "2 ** 4"
      ]
    },
    {
      "cell_type": "code",
      "execution_count": null,
      "metadata": {
        "id": "PPUzXKypJhlS",
        "outputId": "dcd5db73-7823-4330-a947-bebc600f8350"
      },
      "outputs": [
        {
          "data": {
            "text/plain": [
              "50"
            ]
          },
          "execution_count": 12,
          "metadata": {},
          "output_type": "execute_result"
        }
      ],
      "source": [
        "(2 + 3) * (5 + 5)"
      ]
    },
    {
      "cell_type": "markdown",
      "metadata": {
        "id": "b0CEuviLJhlT"
      },
      "source": [
        "### Asignación de Variables"
      ]
    },
    {
      "cell_type": "code",
      "execution_count": null,
      "metadata": {
        "id": "W4bmBhZvJhlT"
      },
      "outputs": [],
      "source": [
        "# No puede comenzar con números o caracteres especiales.\n",
        "num = 2"
      ]
    },
    {
      "cell_type": "code",
      "execution_count": null,
      "metadata": {
        "id": "d_361QaMJhlU"
      },
      "outputs": [],
      "source": [
        "x = 2\n",
        "y = 3"
      ]
    },
    {
      "cell_type": "code",
      "execution_count": null,
      "metadata": {
        "collapsed": true,
        "jupyter": {
          "outputs_hidden": true
        },
        "id": "sRgC5t1qJhlU"
      },
      "outputs": [],
      "source": [
        "z = x + y"
      ]
    },
    {
      "cell_type": "code",
      "execution_count": null,
      "metadata": {
        "id": "uEEBZ67KJhlU",
        "outputId": "43169560-b40f-43c0-cff0-dea4b85d6855"
      },
      "outputs": [
        {
          "data": {
            "text/plain": [
              "5"
            ]
          },
          "execution_count": 16,
          "metadata": {},
          "output_type": "execute_result"
        }
      ],
      "source": [
        "z"
      ]
    },
    {
      "cell_type": "markdown",
      "metadata": {
        "id": "k8wgb4ucJhlV"
      },
      "source": [
        "### Cadenas"
      ]
    },
    {
      "cell_type": "code",
      "execution_count": null,
      "metadata": {
        "id": "UU4S3l9XJhlV",
        "outputId": "2cf87276-eccd-4aba-a1bf-50bdfb0fe420"
      },
      "outputs": [
        {
          "data": {
            "text/plain": [
              "'comillas simples'"
            ]
          },
          "execution_count": 3,
          "metadata": {},
          "output_type": "execute_result"
        }
      ],
      "source": [
        "'comillas simples'"
      ]
    },
    {
      "cell_type": "code",
      "execution_count": null,
      "metadata": {
        "id": "l2uzPymuJhlW",
        "outputId": "ce5ffe35-1b2c-4f5a-e92d-8e56404cc34f"
      },
      "outputs": [
        {
          "data": {
            "text/plain": [
              "'comillas dobles'"
            ]
          },
          "execution_count": 4,
          "metadata": {},
          "output_type": "execute_result"
        }
      ],
      "source": [
        "\"comillas dobles\""
      ]
    },
    {
      "cell_type": "code",
      "execution_count": null,
      "metadata": {
        "id": "njxT90_EJhlW",
        "outputId": "7be73fc4-4b0e-4dfa-9067-6eeaf81492ab"
      },
      "outputs": [
        {
          "data": {
            "text/plain": [
              "\" envolver 'muchas' otras citas\""
            ]
          },
          "execution_count": 5,
          "metadata": {},
          "output_type": "execute_result"
        }
      ],
      "source": [
        "\" envolver 'muchas' otras citas\""
      ]
    },
    {
      "cell_type": "markdown",
      "metadata": {
        "id": "xF9JzgJFJhlW"
      },
      "source": [
        "### Impresión"
      ]
    },
    {
      "cell_type": "code",
      "execution_count": null,
      "metadata": {
        "id": "5qm1n01rJhlW"
      },
      "outputs": [],
      "source": [
        "x = 'hola'"
      ]
    },
    {
      "cell_type": "code",
      "execution_count": null,
      "metadata": {
        "id": "e1IfIweRJhlW",
        "outputId": "50c5b3ae-8bcd-4a6b-ca1b-3b5d8a818ce6"
      },
      "outputs": [
        {
          "data": {
            "text/plain": [
              "'hola'"
            ]
          },
          "execution_count": 7,
          "metadata": {},
          "output_type": "execute_result"
        }
      ],
      "source": [
        "x"
      ]
    },
    {
      "cell_type": "code",
      "execution_count": null,
      "metadata": {
        "id": "sBA7X5OIJhlX",
        "outputId": "bb0d6678-b930-4f24-f634-9795a123ca0e"
      },
      "outputs": [
        {
          "name": "stdout",
          "output_type": "stream",
          "text": [
            "hola\n"
          ]
        }
      ],
      "source": [
        "print(x)"
      ]
    },
    {
      "cell_type": "code",
      "execution_count": null,
      "metadata": {
        "id": "GU0y3020JhlX"
      },
      "outputs": [],
      "source": [
        "num = 20\n",
        "name = 'Pedro'"
      ]
    },
    {
      "cell_type": "code",
      "execution_count": null,
      "metadata": {
        "id": "0DeoqIvqJhlX",
        "outputId": "7cb09f58-286c-4c35-b616-500109e427b8"
      },
      "outputs": [
        {
          "name": "stdout",
          "output_type": "stream",
          "text": [
            "Mi numero: 20, y mi nombre es: Pedro \n"
          ]
        }
      ],
      "source": [
        "print('Mi numero: {one}, y mi nombre es: {two} '.format(one=num,two=name))"
      ]
    },
    {
      "cell_type": "code",
      "execution_count": null,
      "metadata": {
        "id": "Sy_YoUKCJhlX",
        "outputId": "8a0e0340-fc3f-4daf-b0c7-4a0997271b5a"
      },
      "outputs": [
        {
          "name": "stdout",
          "output_type": "stream",
          "text": [
            "Mi numero: 20, y mi nombre es: Pedro\n"
          ]
        }
      ],
      "source": [
        "print('Mi numero: {}, y mi nombre es: {}'.format(num,name))"
      ]
    },
    {
      "cell_type": "markdown",
      "metadata": {
        "id": "MooeMhGZJhlX"
      },
      "source": [
        "### Listas"
      ]
    },
    {
      "cell_type": "code",
      "execution_count": null,
      "metadata": {
        "id": "mjlDqxgKJhlX",
        "outputId": "a8f75d0c-0bf7-4dde-b10d-e79830941323"
      },
      "outputs": [
        {
          "data": {
            "text/plain": [
              "[1, 2, 3]"
            ]
          },
          "execution_count": 14,
          "metadata": {},
          "output_type": "execute_result"
        }
      ],
      "source": [
        "[1,2,3]"
      ]
    },
    {
      "cell_type": "code",
      "execution_count": null,
      "metadata": {
        "id": "kpdftH-BJhlY",
        "outputId": "5cda272b-4150-4e0a-9979-33b21af27a25"
      },
      "outputs": [
        {
          "data": {
            "text/plain": [
              "['hola', 1, [1, 2]]"
            ]
          },
          "execution_count": 15,
          "metadata": {},
          "output_type": "execute_result"
        }
      ],
      "source": [
        "['hola',1,[1,2]]"
      ]
    },
    {
      "cell_type": "code",
      "execution_count": null,
      "metadata": {
        "id": "rRqg1BgJJhlY"
      },
      "outputs": [],
      "source": [
        "my_list = ['a','b','c']"
      ]
    },
    {
      "cell_type": "code",
      "execution_count": null,
      "metadata": {
        "id": "dNvsa3QYJhlY"
      },
      "outputs": [],
      "source": [
        "my_list.append('d')"
      ]
    },
    {
      "cell_type": "code",
      "execution_count": null,
      "metadata": {
        "id": "-z5f-S9VJhlY",
        "outputId": "d88c2ead-21f5-4334-e701-e7945a4b1487"
      },
      "outputs": [
        {
          "data": {
            "text/plain": [
              "['a', 'b', 'c', 'd']"
            ]
          },
          "execution_count": 18,
          "metadata": {},
          "output_type": "execute_result"
        }
      ],
      "source": [
        "my_list"
      ]
    },
    {
      "cell_type": "code",
      "execution_count": null,
      "metadata": {
        "id": "WY6BkdzQJhlY",
        "outputId": "c973c40b-9265-4b62-f8d7-0adfa0fb4281"
      },
      "outputs": [
        {
          "data": {
            "text/plain": [
              "'a'"
            ]
          },
          "execution_count": 19,
          "metadata": {},
          "output_type": "execute_result"
        }
      ],
      "source": [
        "my_list[0]"
      ]
    },
    {
      "cell_type": "code",
      "execution_count": null,
      "metadata": {
        "id": "fJ_OsjlrJhlY",
        "outputId": "5fabcfd5-72da-4498-f9cc-47b92f4d52b2"
      },
      "outputs": [
        {
          "data": {
            "text/plain": [
              "'b'"
            ]
          },
          "execution_count": 20,
          "metadata": {},
          "output_type": "execute_result"
        }
      ],
      "source": [
        "my_list[1]"
      ]
    },
    {
      "cell_type": "code",
      "execution_count": null,
      "metadata": {
        "id": "ywSK1_vjJhlY",
        "outputId": "ff29444c-fde0-4c9f-ee21-385caba04b4d"
      },
      "outputs": [
        {
          "data": {
            "text/plain": [
              "['b', 'c', 'd']"
            ]
          },
          "execution_count": 21,
          "metadata": {},
          "output_type": "execute_result"
        }
      ],
      "source": [
        "my_list[1:]"
      ]
    },
    {
      "cell_type": "code",
      "execution_count": null,
      "metadata": {
        "id": "Ttu1w1IoJhlZ",
        "outputId": "7de924e0-e16a-47d0-9fa8-04e84c9e3201"
      },
      "outputs": [
        {
          "data": {
            "text/plain": [
              "['a']"
            ]
          },
          "execution_count": 22,
          "metadata": {},
          "output_type": "execute_result"
        }
      ],
      "source": [
        "my_list[:1]"
      ]
    },
    {
      "cell_type": "code",
      "execution_count": null,
      "metadata": {
        "id": "IBnqi0lkJhlZ"
      },
      "outputs": [],
      "source": [
        "my_list[0] = 'Nuevo'"
      ]
    },
    {
      "cell_type": "code",
      "execution_count": null,
      "metadata": {
        "id": "ESGSMW4NJhlZ",
        "outputId": "9e4120d2-750f-4e77-97ff-0f182fd7543f"
      },
      "outputs": [
        {
          "data": {
            "text/plain": [
              "['Nuevo', 'b', 'c', 'd']"
            ]
          },
          "execution_count": 24,
          "metadata": {},
          "output_type": "execute_result"
        }
      ],
      "source": [
        "my_list"
      ]
    },
    {
      "cell_type": "code",
      "execution_count": null,
      "metadata": {
        "id": "2sTzZ8krJhlZ"
      },
      "outputs": [],
      "source": [
        "nest = [1,2,3,[4,5,['destino']]]"
      ]
    },
    {
      "cell_type": "code",
      "execution_count": null,
      "metadata": {
        "id": "B-2jg0tKJhlZ",
        "outputId": "972279b9-6bc1-4fe6-cdd4-df8698084adb"
      },
      "outputs": [
        {
          "data": {
            "text/plain": [
              "[4, 5, ['destino']]"
            ]
          },
          "execution_count": 26,
          "metadata": {},
          "output_type": "execute_result"
        }
      ],
      "source": [
        "nest[3]"
      ]
    },
    {
      "cell_type": "code",
      "execution_count": null,
      "metadata": {
        "id": "FsE40rI5JhlZ",
        "outputId": "ea90f6cf-c4f8-41ae-d789-f761663cdcee"
      },
      "outputs": [
        {
          "data": {
            "text/plain": [
              "['destino']"
            ]
          },
          "execution_count": 27,
          "metadata": {},
          "output_type": "execute_result"
        }
      ],
      "source": [
        "nest[3][2]"
      ]
    },
    {
      "cell_type": "code",
      "execution_count": null,
      "metadata": {
        "id": "zhvzHN2pJhlZ",
        "outputId": "a6090be9-4ac4-472b-c208-dfcf7715564f"
      },
      "outputs": [
        {
          "data": {
            "text/plain": [
              "'destino'"
            ]
          },
          "execution_count": 28,
          "metadata": {},
          "output_type": "execute_result"
        }
      ],
      "source": [
        "nest[3][2][0]"
      ]
    },
    {
      "cell_type": "markdown",
      "metadata": {
        "id": "FR5STC6DJhla"
      },
      "source": [
        "### Diccionarios"
      ]
    },
    {
      "cell_type": "code",
      "execution_count": null,
      "metadata": {
        "id": "NSxBIs7OJhlb"
      },
      "outputs": [],
      "source": [
        "d = {'key1':'item1','key2':'item2'}"
      ]
    },
    {
      "cell_type": "code",
      "execution_count": null,
      "metadata": {
        "id": "oN-4P1RvJhlb",
        "outputId": "78f16d6f-9c0c-48fc-ea83-865181d228cb"
      },
      "outputs": [
        {
          "data": {
            "text/plain": [
              "{'key1': 'item1', 'key2': 'item2'}"
            ]
          },
          "execution_count": 5,
          "metadata": {},
          "output_type": "execute_result"
        }
      ],
      "source": [
        "d"
      ]
    },
    {
      "cell_type": "code",
      "execution_count": null,
      "metadata": {
        "id": "aoPqv_uDJhlb",
        "outputId": "e68bc079-f843-4442-c808-ff0466ad0665"
      },
      "outputs": [
        {
          "data": {
            "text/plain": [
              "['item1', 'item2', 'item3']"
            ]
          },
          "execution_count": 58,
          "metadata": {},
          "output_type": "execute_result"
        }
      ],
      "source": [
        "d['key1']"
      ]
    },
    {
      "cell_type": "code",
      "execution_count": null,
      "metadata": {
        "id": "nQHeG1U1Jhlb",
        "outputId": "091655be-3cbd-49ae-a3b9-a9adcaedaac5"
      },
      "outputs": [
        {
          "data": {
            "text/plain": [
              "['item1', 'item2', 'item3']"
            ]
          },
          "execution_count": 62,
          "metadata": {},
          "output_type": "execute_result"
        }
      ],
      "source": [
        "d['key1']"
      ]
    },
    {
      "cell_type": "markdown",
      "metadata": {
        "id": "oQTNNLtQJhlb"
      },
      "source": [
        "### Booleans"
      ]
    },
    {
      "cell_type": "code",
      "execution_count": null,
      "metadata": {
        "id": "HIk1xNBSJhlb",
        "outputId": "3d776913-0cf5-4c0f-8800-1d6929830aa1"
      },
      "outputs": [
        {
          "data": {
            "text/plain": [
              "True"
            ]
          },
          "execution_count": 32,
          "metadata": {},
          "output_type": "execute_result"
        }
      ],
      "source": [
        "True"
      ]
    },
    {
      "cell_type": "code",
      "execution_count": null,
      "metadata": {
        "id": "QdRan6HDJhlb",
        "outputId": "222b30b9-b651-44cf-a807-2ae006bae0e7"
      },
      "outputs": [
        {
          "data": {
            "text/plain": [
              "False"
            ]
          },
          "execution_count": 33,
          "metadata": {},
          "output_type": "execute_result"
        }
      ],
      "source": [
        "False"
      ]
    },
    {
      "cell_type": "markdown",
      "metadata": {
        "id": "35s208lgJhlc"
      },
      "source": [
        "### Tuplas"
      ]
    },
    {
      "cell_type": "code",
      "execution_count": null,
      "metadata": {
        "id": "i4C6z64-Jhlc"
      },
      "outputs": [],
      "source": [
        "t = (1,2,3)"
      ]
    },
    {
      "cell_type": "code",
      "execution_count": null,
      "metadata": {
        "id": "9HBQxJI0Jhlc",
        "outputId": "e09963dd-c73a-4ac4-f6d7-940953d6b599"
      },
      "outputs": [
        {
          "data": {
            "text/plain": [
              "1"
            ]
          },
          "execution_count": 35,
          "metadata": {},
          "output_type": "execute_result"
        }
      ],
      "source": [
        "t[0]"
      ]
    },
    {
      "cell_type": "code",
      "execution_count": null,
      "metadata": {
        "id": "X0YifoFxJhlc",
        "outputId": "ef975313-b079-44f1-e351-844b6b82f65a"
      },
      "outputs": [
        {
          "ename": "TypeError",
          "evalue": "'tuple' object does not support item assignment",
          "output_type": "error",
          "traceback": [
            "\u001b[1;31m---------------------------------------------------------------------------\u001b[0m",
            "\u001b[1;31mTypeError\u001b[0m                                 Traceback (most recent call last)",
            "\u001b[1;32m<ipython-input-37-c554ffec4506>\u001b[0m in \u001b[0;36m<module>\u001b[1;34m\u001b[0m\n\u001b[1;32m----> 1\u001b[1;33m \u001b[0mt\u001b[0m\u001b[1;33m[\u001b[0m\u001b[1;36m0\u001b[0m\u001b[1;33m]\u001b[0m \u001b[1;33m=\u001b[0m \u001b[1;34m'Nuevo'\u001b[0m\u001b[1;33m\u001b[0m\u001b[1;33m\u001b[0m\u001b[0m\n\u001b[0m",
            "\u001b[1;31mTypeError\u001b[0m: 'tuple' object does not support item assignment"
          ]
        }
      ],
      "source": [
        "t[0] = 'Nuevo'"
      ]
    },
    {
      "cell_type": "markdown",
      "metadata": {
        "id": "Q5-jwcqDJhlc"
      },
      "source": [
        "### Conjuntos (Sets)"
      ]
    },
    {
      "cell_type": "code",
      "execution_count": null,
      "metadata": {
        "id": "XkM8NAK0Jhlc",
        "outputId": "94672ffb-2b1f-4579-f6d6-8c25405d5990"
      },
      "outputs": [
        {
          "data": {
            "text/plain": [
              "{1, 2, 3}"
            ]
          },
          "execution_count": 63,
          "metadata": {},
          "output_type": "execute_result"
        }
      ],
      "source": [
        "{1,2,3}"
      ]
    },
    {
      "cell_type": "code",
      "execution_count": null,
      "metadata": {
        "id": "8llAGVQpJhlc",
        "outputId": "2bd4e151-897b-4f14-dbdb-2dfbbaa791a8"
      },
      "outputs": [
        {
          "data": {
            "text/plain": [
              "{1, 2, 3}"
            ]
          },
          "execution_count": 64,
          "metadata": {},
          "output_type": "execute_result"
        }
      ],
      "source": [
        "{1,2,3,1,2,1,2,3,3,3,3,2,2,2,1,1,2}"
      ]
    },
    {
      "cell_type": "markdown",
      "metadata": {
        "id": "-7lAX6f5Jhld"
      },
      "source": [
        "## Comparison Operators"
      ]
    },
    {
      "cell_type": "code",
      "execution_count": null,
      "metadata": {
        "id": "ySOF9JHBJhld",
        "outputId": "8b1ff5ab-3813-4079-8d7a-839b79a70d27"
      },
      "outputs": [
        {
          "data": {
            "text/plain": [
              "False"
            ]
          },
          "execution_count": 65,
          "metadata": {},
          "output_type": "execute_result"
        }
      ],
      "source": [
        "1 > 2"
      ]
    },
    {
      "cell_type": "code",
      "execution_count": null,
      "metadata": {
        "id": "tHsVwvS7Jhld",
        "outputId": "02b344fe-f0ae-4be9-f1ca-19119b7b8a5a"
      },
      "outputs": [
        {
          "data": {
            "text/plain": [
              "True"
            ]
          },
          "execution_count": 66,
          "metadata": {},
          "output_type": "execute_result"
        }
      ],
      "source": [
        "1 < 2"
      ]
    },
    {
      "cell_type": "code",
      "execution_count": null,
      "metadata": {
        "id": "b3ZoiWhWJhld",
        "outputId": "b7c7e355-4277-49f7-d0b7-019219906e1e"
      },
      "outputs": [
        {
          "data": {
            "text/plain": [
              "True"
            ]
          },
          "execution_count": 67,
          "metadata": {},
          "output_type": "execute_result"
        }
      ],
      "source": [
        "1 >= 1"
      ]
    },
    {
      "cell_type": "code",
      "execution_count": null,
      "metadata": {
        "id": "kuAIZDH0Jhld",
        "outputId": "daab92f0-42e3-4474-f22a-6dfdaf969a8d"
      },
      "outputs": [
        {
          "data": {
            "text/plain": [
              "True"
            ]
          },
          "execution_count": 50,
          "metadata": {},
          "output_type": "execute_result"
        }
      ],
      "source": [
        "1 <= 4"
      ]
    },
    {
      "cell_type": "code",
      "execution_count": null,
      "metadata": {
        "id": "lA2-w_HpJhld",
        "outputId": "bb054df6-8bc6-489a-b9cf-76a23b6dcf6f"
      },
      "outputs": [
        {
          "data": {
            "text/plain": [
              "True"
            ]
          },
          "execution_count": 68,
          "metadata": {},
          "output_type": "execute_result"
        }
      ],
      "source": [
        "1 == 1"
      ]
    },
    {
      "cell_type": "code",
      "execution_count": null,
      "metadata": {
        "id": "oFZF_OXPJhle",
        "outputId": "fd72304e-f2a0-432e-ac67-ebf61b14d03d"
      },
      "outputs": [
        {
          "data": {
            "text/plain": [
              "False"
            ]
          },
          "execution_count": 69,
          "metadata": {},
          "output_type": "execute_result"
        }
      ],
      "source": [
        "'hola' == 'chau'"
      ]
    },
    {
      "cell_type": "markdown",
      "metadata": {
        "id": "xio-SpP5Jhle"
      },
      "source": [
        "## Operadores Lógicos"
      ]
    },
    {
      "cell_type": "code",
      "execution_count": null,
      "metadata": {
        "id": "V0cW98IzJhle",
        "outputId": "6a09fe3f-9529-4b79-d58d-0cfa41526c43"
      },
      "outputs": [
        {
          "data": {
            "text/plain": [
              "False"
            ]
          },
          "execution_count": 53,
          "metadata": {},
          "output_type": "execute_result"
        }
      ],
      "source": [
        "(1 > 2) and (2 < 3)"
      ]
    },
    {
      "cell_type": "code",
      "execution_count": null,
      "metadata": {
        "id": "p1iAGmsyJhle",
        "outputId": "c1c2128c-cfe9-4aca-bbd1-c958ae2ac0c2"
      },
      "outputs": [
        {
          "data": {
            "text/plain": [
              "True"
            ]
          },
          "execution_count": 54,
          "metadata": {},
          "output_type": "execute_result"
        }
      ],
      "source": [
        "(1 > 2) or (2 < 3)"
      ]
    },
    {
      "cell_type": "code",
      "execution_count": null,
      "metadata": {
        "id": "OuLUDbNsJhle",
        "outputId": "6c7e530e-04c2-406d-d391-ace84a29b47d"
      },
      "outputs": [
        {
          "data": {
            "text/plain": [
              "True"
            ]
          },
          "execution_count": 55,
          "metadata": {},
          "output_type": "execute_result"
        }
      ],
      "source": [
        "(1 == 2) or (2 == 3) or (4 == 4)"
      ]
    },
    {
      "cell_type": "markdown",
      "metadata": {
        "id": "theqj6U1Jhle"
      },
      "source": [
        "## Estamentos if,elif, else"
      ]
    },
    {
      "cell_type": "code",
      "execution_count": null,
      "metadata": {
        "id": "azsncZ55Jhle",
        "outputId": "03ae4aa9-c701-4e53-f7d0-6d9a89f1eb8f"
      },
      "outputs": [
        {
          "name": "stdout",
          "output_type": "stream",
          "text": [
            "Siiii!\n"
          ]
        }
      ],
      "source": [
        "if 1 < 2:\n",
        "    print('Siiii!')"
      ]
    },
    {
      "cell_type": "code",
      "execution_count": null,
      "metadata": {
        "id": "kXj9XIWHJhlf",
        "outputId": "b2f1f1e5-c8b4-4327-8c6e-ac992a9db927"
      },
      "outputs": [
        {
          "name": "stdout",
          "output_type": "stream",
          "text": [
            "Noo!\n"
          ]
        }
      ],
      "source": [
        "if 1 < 3:\n",
        "    print('Noo!')"
      ]
    },
    {
      "cell_type": "code",
      "execution_count": null,
      "metadata": {
        "id": "-rSWHRejJhlf",
        "outputId": "ab50817a-199c-463b-d5d5-87aae4312eff"
      },
      "outputs": [
        {
          "name": "stdout",
          "output_type": "stream",
          "text": [
            "si\n"
          ]
        }
      ],
      "source": [
        "if 1 < 2:\n",
        "    print('si')\n",
        "else:\n",
        "    print('no')"
      ]
    },
    {
      "cell_type": "code",
      "execution_count": null,
      "metadata": {
        "id": "DcjdEOTZJhlf",
        "outputId": "bf1843f0-e84c-4ae0-94fe-d57cbc2f5ffc"
      },
      "outputs": [
        {
          "name": "stdout",
          "output_type": "stream",
          "text": [
            "no\n"
          ]
        }
      ],
      "source": [
        "if 1 > 2:\n",
        "    print('si')\n",
        "else:\n",
        "    print('no')"
      ]
    },
    {
      "cell_type": "code",
      "execution_count": null,
      "metadata": {
        "id": "6yNy18r_Jhlf",
        "outputId": "0197047a-5ad5-4bdb-a5ac-985cf18965f0"
      },
      "outputs": [
        {
          "name": "stdout",
          "output_type": "stream",
          "text": [
            "segunda rpta\n"
          ]
        }
      ],
      "source": [
        "if 1 == 2:\n",
        "    print('primera rpta')\n",
        "elif 3 == 3:\n",
        "    print('segunda rpta')\n",
        "else:\n",
        "    print('ultimas rpta')"
      ]
    },
    {
      "cell_type": "markdown",
      "metadata": {
        "id": "u10nELKZJhlf"
      },
      "source": [
        "## Bucle for"
      ]
    },
    {
      "cell_type": "code",
      "execution_count": null,
      "metadata": {
        "id": "Y9CCX671Jhlf"
      },
      "outputs": [],
      "source": [
        "seq = [1,2,3,4,5]"
      ]
    },
    {
      "cell_type": "code",
      "execution_count": null,
      "metadata": {
        "id": "dXfpoA9bJhlf",
        "outputId": "dfa3caa8-4c46-40cd-c98c-c4a3e5caae80"
      },
      "outputs": [
        {
          "name": "stdout",
          "output_type": "stream",
          "text": [
            "1\n",
            "2\n",
            "3\n",
            "4\n",
            "5\n"
          ]
        }
      ],
      "source": [
        "for item in seq:\n",
        "    print(item)"
      ]
    },
    {
      "cell_type": "code",
      "execution_count": null,
      "metadata": {
        "id": "AoDqKGMQJhlg",
        "outputId": "8e708a6f-e032-4d78-bd66-71671f6dd8e1"
      },
      "outputs": [
        {
          "name": "stdout",
          "output_type": "stream",
          "text": [
            "hola\n",
            "hola\n",
            "hola\n",
            "hola\n",
            "hola\n"
          ]
        }
      ],
      "source": [
        "for item in seq:\n",
        "    print('hola')"
      ]
    },
    {
      "cell_type": "code",
      "execution_count": null,
      "metadata": {
        "id": "2Ls2g6ANJhlg",
        "outputId": "7cea2189-e039-4da6-8d16-c7caea15d55f"
      },
      "outputs": [
        {
          "name": "stdout",
          "output_type": "stream",
          "text": [
            "2\n",
            "4\n",
            "6\n",
            "8\n",
            "10\n"
          ]
        }
      ],
      "source": [
        "for j in seq:\n",
        "    print(j+j)"
      ]
    },
    {
      "cell_type": "markdown",
      "metadata": {
        "id": "2tQmozuKJhlg"
      },
      "source": [
        "## Bucle while"
      ]
    },
    {
      "cell_type": "code",
      "execution_count": null,
      "metadata": {
        "id": "AxdRt_QmJhlg",
        "outputId": "910be2a5-c3e1-49c3-ee6b-c884f6d8700b"
      },
      "outputs": [
        {
          "name": "stdout",
          "output_type": "stream",
          "text": [
            "i es: 1\n",
            "i es: 2\n",
            "i es: 3\n",
            "i es: 4\n"
          ]
        }
      ],
      "source": [
        "i = 1\n",
        "while i < 5:\n",
        "    print('i es: {}'.format(i))\n",
        "    i = i+1"
      ]
    },
    {
      "cell_type": "markdown",
      "metadata": {
        "id": "dCWfOkoPJhlg"
      },
      "source": [
        "## range()"
      ]
    },
    {
      "cell_type": "code",
      "execution_count": null,
      "metadata": {
        "id": "Hhs6dyqjJhlg",
        "outputId": "ce289753-9abc-41ff-fac6-f8ae57e20bcf"
      },
      "outputs": [
        {
          "data": {
            "text/plain": [
              "range(0, 5)"
            ]
          },
          "execution_count": 88,
          "metadata": {},
          "output_type": "execute_result"
        }
      ],
      "source": [
        "range(5)"
      ]
    },
    {
      "cell_type": "code",
      "execution_count": null,
      "metadata": {
        "id": "81Jdf7HHJhlg",
        "outputId": "6fc33ebb-1f4b-450b-8dd1-66e7b6876e22"
      },
      "outputs": [
        {
          "name": "stdout",
          "output_type": "stream",
          "text": [
            "0\n",
            "1\n",
            "2\n",
            "3\n",
            "4\n"
          ]
        }
      ],
      "source": [
        "for i in range(5):\n",
        "    print(i)"
      ]
    },
    {
      "cell_type": "code",
      "execution_count": null,
      "metadata": {
        "id": "bLxJ3eBaJhlh",
        "outputId": "e264228e-d109-4fe3-f6e6-13dcf0d1df6f"
      },
      "outputs": [
        {
          "data": {
            "text/plain": [
              "[0, 1, 2, 3, 4]"
            ]
          },
          "execution_count": 89,
          "metadata": {},
          "output_type": "execute_result"
        }
      ],
      "source": [
        "list(range(5))"
      ]
    },
    {
      "cell_type": "markdown",
      "metadata": {
        "id": "_v7kh9eQJhlh"
      },
      "source": [
        "## Comprensión de listas"
      ]
    },
    {
      "cell_type": "code",
      "execution_count": null,
      "metadata": {
        "id": "a_mp8nVsJhlh"
      },
      "outputs": [],
      "source": [
        "x = [1,2,3,4]"
      ]
    },
    {
      "cell_type": "code",
      "execution_count": null,
      "metadata": {
        "id": "UzZrx_laJhlh",
        "outputId": "d9d071f9-d245-4bf6-e7d3-f8081fa473e2"
      },
      "outputs": [
        {
          "name": "stdout",
          "output_type": "stream",
          "text": [
            "[1, 4, 9, 16]\n"
          ]
        }
      ],
      "source": [
        "out = []\n",
        "for item in x:\n",
        "    out.append(item**2)\n",
        "print(out)"
      ]
    },
    {
      "cell_type": "code",
      "execution_count": null,
      "metadata": {
        "id": "rIWrWMziJhlh",
        "outputId": "388025a3-93d5-4987-c111-618a445aea40"
      },
      "outputs": [
        {
          "data": {
            "text/plain": [
              "[1, 4, 9, 16]"
            ]
          },
          "execution_count": 93,
          "metadata": {},
          "output_type": "execute_result"
        }
      ],
      "source": [
        "[item**2 for item in x]"
      ]
    },
    {
      "cell_type": "code",
      "execution_count": null,
      "metadata": {
        "id": "Lu965jbrJhlh"
      },
      "outputs": [],
      "source": [
        "y = [item**2 for item in x]"
      ]
    },
    {
      "cell_type": "code",
      "execution_count": null,
      "metadata": {
        "id": "hrckuY3kJhlh",
        "outputId": "c7fe09bf-f6fc-43a9-b914-ac3eb1967f35"
      },
      "outputs": [
        {
          "data": {
            "text/plain": [
              "[1, 4, 9, 16]"
            ]
          },
          "execution_count": 96,
          "metadata": {},
          "output_type": "execute_result"
        }
      ],
      "source": [
        "y"
      ]
    },
    {
      "cell_type": "markdown",
      "metadata": {
        "id": "uSZFHSVrJhlh"
      },
      "source": [
        "## Funciones"
      ]
    },
    {
      "cell_type": "code",
      "execution_count": null,
      "metadata": {
        "id": "xAgZQx-aJhli"
      },
      "outputs": [],
      "source": [
        "def my_func(param1='default'):\n",
        "    \"\"\"\n",
        "    Documentacion va aqui\n",
        "    \"\"\"\n",
        "    print(param1)"
      ]
    },
    {
      "cell_type": "code",
      "execution_count": null,
      "metadata": {
        "id": "IIhVn4YHJhli",
        "outputId": "57668800-453a-4a44-ba34-a1cc3acebde0"
      },
      "outputs": [
        {
          "data": {
            "text/plain": [
              "<function __main__.my_func(param1='default')>"
            ]
          },
          "execution_count": 98,
          "metadata": {},
          "output_type": "execute_result"
        }
      ],
      "source": [
        "my_func"
      ]
    },
    {
      "cell_type": "code",
      "execution_count": null,
      "metadata": {
        "id": "OCeoNR4oJhli",
        "outputId": "404b51b9-a2de-418f-bbc7-c2c58f3d5ffc"
      },
      "outputs": [
        {
          "name": "stdout",
          "output_type": "stream",
          "text": [
            "default\n"
          ]
        }
      ],
      "source": [
        "my_func()"
      ]
    },
    {
      "cell_type": "code",
      "execution_count": null,
      "metadata": {
        "id": "XtHDgOx7Jhli",
        "outputId": "65f8831b-bfc7-41f5-8bc0-bc181501901e"
      },
      "outputs": [
        {
          "name": "stdout",
          "output_type": "stream",
          "text": [
            "nuevo parametro\n"
          ]
        }
      ],
      "source": [
        "my_func('nuevo parametro')"
      ]
    },
    {
      "cell_type": "code",
      "execution_count": null,
      "metadata": {
        "id": "VysvbwH2Jhli",
        "outputId": "5aad2cbc-58cf-4bd3-efc1-ec5fcbe5c83a"
      },
      "outputs": [
        {
          "name": "stdout",
          "output_type": "stream",
          "text": [
            "nuevo parametro\n"
          ]
        }
      ],
      "source": [
        "my_func(param1='nuevo parametro')"
      ]
    },
    {
      "cell_type": "code",
      "execution_count": null,
      "metadata": {
        "id": "bBRKI5BfJhli"
      },
      "outputs": [],
      "source": [
        "def square(x):\n",
        "    return x**2"
      ]
    },
    {
      "cell_type": "code",
      "execution_count": null,
      "metadata": {
        "id": "SDDEDSu5Jhli"
      },
      "outputs": [],
      "source": [
        "out = square(2)"
      ]
    },
    {
      "cell_type": "code",
      "execution_count": null,
      "metadata": {
        "scrolled": true,
        "id": "xWLRFTaBJhlj",
        "outputId": "e1e940f6-efa7-4dd9-a3e6-5ff4dea39834"
      },
      "outputs": [
        {
          "name": "stdout",
          "output_type": "stream",
          "text": [
            "4\n"
          ]
        }
      ],
      "source": [
        "print(out)"
      ]
    },
    {
      "cell_type": "markdown",
      "metadata": {
        "id": "pDWkMuG8Jhlj"
      },
      "source": [
        "## Expresiones lambda"
      ]
    },
    {
      "cell_type": "code",
      "execution_count": null,
      "metadata": {
        "id": "R8z_ilyUJhlj"
      },
      "outputs": [],
      "source": [
        "def times2(var):\n",
        "    return var*2"
      ]
    },
    {
      "cell_type": "code",
      "execution_count": null,
      "metadata": {
        "id": "iWCsCxamJhlj",
        "outputId": "11ea2455-72fc-4176-a720-1326cc60ba83"
      },
      "outputs": [
        {
          "data": {
            "text/plain": [
              "4"
            ]
          },
          "execution_count": 106,
          "metadata": {},
          "output_type": "execute_result"
        }
      ],
      "source": [
        "times2(2)"
      ]
    },
    {
      "cell_type": "code",
      "execution_count": null,
      "metadata": {
        "id": "cvpm4TclJhlj",
        "outputId": "4ca77ee3-33b8-4676-eda2-e05c395dc755"
      },
      "outputs": [
        {
          "data": {
            "text/plain": [
              "<function __main__.<lambda>(var)>"
            ]
          },
          "execution_count": 109,
          "metadata": {},
          "output_type": "execute_result"
        }
      ],
      "source": [
        "lambda var: var*2"
      ]
    },
    {
      "cell_type": "markdown",
      "metadata": {
        "id": "dnm2NE-1Jhlk"
      },
      "source": [
        "## map y filter"
      ]
    },
    {
      "cell_type": "code",
      "execution_count": null,
      "metadata": {
        "id": "vqupWJlRJhlk"
      },
      "outputs": [],
      "source": [
        "seq = [1,2,3,4,5]"
      ]
    },
    {
      "cell_type": "code",
      "execution_count": null,
      "metadata": {
        "id": "7eS5EQz2Jhlk",
        "outputId": "923f85d7-f5f1-4c6f-df7b-419282cea285"
      },
      "outputs": [
        {
          "data": {
            "text/plain": [
              "<map at 0x14162624370>"
            ]
          },
          "execution_count": 111,
          "metadata": {},
          "output_type": "execute_result"
        }
      ],
      "source": [
        "map(times2,seq)"
      ]
    },
    {
      "cell_type": "code",
      "execution_count": null,
      "metadata": {
        "id": "auzZlRoXJhlk",
        "outputId": "694e5b1b-83a4-4abc-8d0e-8fdb3c6c3816"
      },
      "outputs": [
        {
          "data": {
            "text/plain": [
              "[2, 4, 6, 8, 10]"
            ]
          },
          "execution_count": 85,
          "metadata": {},
          "output_type": "execute_result"
        }
      ],
      "source": [
        "list(map(times2,seq))"
      ]
    },
    {
      "cell_type": "code",
      "execution_count": null,
      "metadata": {
        "id": "ND9230LcJhlk",
        "outputId": "8d7f5363-cc08-4a17-b488-2c51f8789f4f"
      },
      "outputs": [
        {
          "data": {
            "text/plain": [
              "[2, 4, 6, 8, 10]"
            ]
          },
          "execution_count": 86,
          "metadata": {},
          "output_type": "execute_result"
        }
      ],
      "source": [
        "list(map(lambda var: var*2,seq))"
      ]
    },
    {
      "cell_type": "code",
      "execution_count": null,
      "metadata": {
        "id": "BW0cQZEfJhlk",
        "outputId": "983b25bc-fe99-4a25-cff3-14ba2511e0e4"
      },
      "outputs": [
        {
          "data": {
            "text/plain": [
              "<filter at 0x105316ac8>"
            ]
          },
          "execution_count": 87,
          "metadata": {},
          "output_type": "execute_result"
        }
      ],
      "source": [
        "filter(lambda item: item%2 == 0,seq)"
      ]
    },
    {
      "cell_type": "code",
      "execution_count": null,
      "metadata": {
        "id": "UtMV8U_MJhlk",
        "outputId": "74d411d4-c172-4489-a0cc-dd90cd9b0f19"
      },
      "outputs": [
        {
          "data": {
            "text/plain": [
              "[2, 4]"
            ]
          },
          "execution_count": 88,
          "metadata": {},
          "output_type": "execute_result"
        }
      ],
      "source": [
        "list(filter(lambda item: item%2 == 0,seq))"
      ]
    },
    {
      "cell_type": "markdown",
      "metadata": {
        "id": "C6CUaYFUJhlk"
      },
      "source": [
        "## Metodos"
      ]
    },
    {
      "cell_type": "code",
      "execution_count": null,
      "metadata": {
        "id": "zc66sXlXJhlk"
      },
      "outputs": [],
      "source": [
        "st = 'Hola mi nombre es Pat'"
      ]
    },
    {
      "cell_type": "code",
      "execution_count": null,
      "metadata": {
        "id": "kpZRuqbhJhlk",
        "outputId": "a4f46340-3240-4399-98ba-6de736c876d3"
      },
      "outputs": [
        {
          "data": {
            "text/plain": [
              "'hola mi nombre es pat'"
            ]
          },
          "execution_count": 119,
          "metadata": {},
          "output_type": "execute_result"
        }
      ],
      "source": [
        "st.lower()"
      ]
    },
    {
      "cell_type": "code",
      "execution_count": null,
      "metadata": {
        "id": "nLlkibfYJhlk",
        "outputId": "1846dae3-f3de-459a-c304-a460a1250821"
      },
      "outputs": [
        {
          "data": {
            "text/plain": [
              "'HOLA MI NOMBRE ES PAT'"
            ]
          },
          "execution_count": 120,
          "metadata": {},
          "output_type": "execute_result"
        }
      ],
      "source": [
        "st.upper()"
      ]
    },
    {
      "cell_type": "code",
      "execution_count": null,
      "metadata": {
        "id": "wdQYWGljJhlk",
        "outputId": "b2b240ec-4b84-454d-f2d9-b7bbe8fe1c79"
      },
      "outputs": [
        {
          "data": {
            "text/plain": [
              "['Hola', 'mi', 'nombre', 'es', 'Pat']"
            ]
          },
          "execution_count": 121,
          "metadata": {},
          "output_type": "execute_result"
        }
      ],
      "source": [
        "st.split()"
      ]
    },
    {
      "cell_type": "code",
      "execution_count": null,
      "metadata": {
        "id": "8RYbS1AQJhll"
      },
      "outputs": [],
      "source": [
        "tweet = 'Vamos Peru! #SiSePuede'"
      ]
    },
    {
      "cell_type": "code",
      "execution_count": null,
      "metadata": {
        "id": "jaI8KCByJhll",
        "outputId": "901641e5-62b2-43d6-8f4e-bd7be609e36e"
      },
      "outputs": [
        {
          "data": {
            "text/plain": [
              "['Vamos Peru! ', 'SiSePuede']"
            ]
          },
          "execution_count": 123,
          "metadata": {},
          "output_type": "execute_result"
        }
      ],
      "source": [
        "tweet.split('#')"
      ]
    },
    {
      "cell_type": "code",
      "execution_count": null,
      "metadata": {
        "id": "-sHRWEAkJhll",
        "outputId": "dc6ed75b-48e3-41c7-eca7-d04012217bab"
      },
      "outputs": [
        {
          "data": {
            "text/plain": [
              "'SiSePuede'"
            ]
          },
          "execution_count": 124,
          "metadata": {},
          "output_type": "execute_result"
        }
      ],
      "source": [
        "tweet.split('#')[1]"
      ]
    },
    {
      "cell_type": "code",
      "execution_count": null,
      "metadata": {
        "id": "L6o6aMMuJhll",
        "outputId": "c08132e9-71b0-4887-8b1d-cdcc6963ff13"
      },
      "outputs": [
        {
          "data": {
            "text/plain": [
              "{'key1': ['item1', 'item2', 'item3'], 'key2': 'item2'}"
            ]
          },
          "execution_count": 125,
          "metadata": {},
          "output_type": "execute_result"
        }
      ],
      "source": [
        "d"
      ]
    },
    {
      "cell_type": "code",
      "execution_count": null,
      "metadata": {
        "id": "BeERbY_wJhll",
        "outputId": "510d6eb8-9fc8-4646-da01-6de7b941536e"
      },
      "outputs": [
        {
          "data": {
            "text/plain": [
              "dict_keys(['key1', 'key2'])"
            ]
          },
          "execution_count": 126,
          "metadata": {},
          "output_type": "execute_result"
        }
      ],
      "source": [
        "d.keys()"
      ]
    },
    {
      "cell_type": "code",
      "execution_count": null,
      "metadata": {
        "id": "FW2l5rISJhll",
        "outputId": "ea20e352-94ba-4cc8-8722-a554362dac7c"
      },
      "outputs": [
        {
          "data": {
            "text/plain": [
              "dict_items([('key1', ['item1', 'item2', 'item3']), ('key2', 'item2')])"
            ]
          },
          "execution_count": 127,
          "metadata": {},
          "output_type": "execute_result"
        }
      ],
      "source": [
        "d.items()"
      ]
    },
    {
      "cell_type": "code",
      "execution_count": null,
      "metadata": {
        "id": "geyIDERcJhll"
      },
      "outputs": [],
      "source": [
        "lst = [1,2,3]"
      ]
    },
    {
      "cell_type": "code",
      "execution_count": null,
      "metadata": {
        "id": "00-_G7afJhll",
        "outputId": "0fb1e982-6c98-4e9f-c433-e8e5974908c8"
      },
      "outputs": [
        {
          "data": {
            "text/plain": [
              "3"
            ]
          },
          "execution_count": 129,
          "metadata": {},
          "output_type": "execute_result"
        }
      ],
      "source": [
        "\"\"\"\n",
        "Remueve un item de una lista.  Si no se especifica, elimina el ultimo (index = -1)\n",
        "\"\"\"\n",
        "lst.pop()"
      ]
    },
    {
      "cell_type": "code",
      "execution_count": null,
      "metadata": {
        "id": "DJLAjDzDJhll",
        "outputId": "b3527348-13b8-461a-fa82-df46ed68a029"
      },
      "outputs": [
        {
          "data": {
            "text/plain": [
              "[1, 2]"
            ]
          },
          "execution_count": 131,
          "metadata": {},
          "output_type": "execute_result"
        }
      ],
      "source": [
        "lst"
      ]
    },
    {
      "cell_type": "code",
      "execution_count": null,
      "metadata": {
        "id": "JGFmK99ZJhll",
        "outputId": "2bd4ebc9-99df-4ce9-c39e-254dd89b2c00"
      },
      "outputs": [
        {
          "data": {
            "text/plain": [
              "False"
            ]
          },
          "execution_count": 132,
          "metadata": {},
          "output_type": "execute_result"
        }
      ],
      "source": [
        "'x' in [1,2,3]"
      ]
    },
    {
      "cell_type": "code",
      "execution_count": null,
      "metadata": {
        "id": "MaXXzPE8Jhll",
        "outputId": "fd4b01dc-8f1a-4119-b3eb-45f24dab5d30"
      },
      "outputs": [
        {
          "data": {
            "text/plain": [
              "True"
            ]
          },
          "execution_count": 133,
          "metadata": {},
          "output_type": "execute_result"
        }
      ],
      "source": [
        "'x' in ['x','y','z']"
      ]
    },
    {
      "cell_type": "markdown",
      "metadata": {
        "id": "ulNs3n4EJhll"
      },
      "source": [
        "# Si llegaste hasta aqui, buen trabajo!\n",
        "Una guia mas completa se puede consultar en https://www.w3schools.com/python/python_operators.asp"
      ]
    }
  ],
  "metadata": {
    "kernelspec": {
      "display_name": "Python 3 (ipykernel)",
      "language": "python",
      "name": "python3"
    },
    "language_info": {
      "codemirror_mode": {
        "name": "ipython",
        "version": 3
      },
      "file_extension": ".py",
      "mimetype": "text/x-python",
      "name": "python",
      "nbconvert_exporter": "python",
      "pygments_lexer": "ipython3",
      "version": "3.12.4"
    },
    "colab": {
      "provenance": []
    }
  },
  "nbformat": 4,
  "nbformat_minor": 0
}