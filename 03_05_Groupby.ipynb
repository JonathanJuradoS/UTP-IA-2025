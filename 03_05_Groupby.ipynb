{
  "cells": [
    {
      "cell_type": "markdown",
      "metadata": {
        "id": "view-in-github",
        "colab_type": "text"
      },
      "source": [
        "<a href=\"https://colab.research.google.com/github/JonathanJuradoS/UTP-IA-2025/blob/main/03_05_Groupby.ipynb\" target=\"_parent\"><img src=\"https://colab.research.google.com/assets/colab-badge.svg\" alt=\"Open In Colab\"/></a>"
      ]
    },
    {
      "cell_type": "markdown",
      "metadata": {
        "id": "oliwIuZaVaGb"
      },
      "source": [
        "___\n",
        "\n",
        "<a href='https://pandas.pydata.org/pandas-docs/stable/reference/api/pandas.DataFrame.groupby.html'> <img src='https://www.python.org/static/img/python-logo.png' /></a>\n",
        "___"
      ]
    },
    {
      "cell_type": "markdown",
      "metadata": {
        "collapsed": true,
        "id": "8iI_Z3VvVaGc"
      },
      "source": [
        "# Groupby\n",
        "\n",
        "El método **groupby** le permite agrupar filas de datos y llamar a funciones agregadas"
      ]
    },
    {
      "cell_type": "code",
      "execution_count": null,
      "metadata": {
        "id": "NL0tfG67VaGc"
      },
      "outputs": [],
      "source": [
        "import pandas as pd\n",
        "# Creamos un dataframe\n",
        "data = {'Empresa':['GOOG','GOOG','MSFT','MSFT','FB','FB'],\n",
        "       'Persona':['Luis','Juan','Oscar','Rosa','Jorge','Esteban'],\n",
        "       'Ventas':[200,120,340,124,243,350]}"
      ]
    },
    {
      "cell_type": "code",
      "execution_count": null,
      "metadata": {
        "id": "3s0mSXUUVaGd"
      },
      "outputs": [],
      "source": [
        "df = pd.DataFrame(data)"
      ]
    },
    {
      "cell_type": "code",
      "execution_count": null,
      "metadata": {
        "id": "utqPjY75VaGd",
        "outputId": "0baed348-1616-4c3e-f1b3-1f80cbbc200b"
      },
      "outputs": [
        {
          "data": {
            "text/html": [
              "<div>\n",
              "<style scoped>\n",
              "    .dataframe tbody tr th:only-of-type {\n",
              "        vertical-align: middle;\n",
              "    }\n",
              "\n",
              "    .dataframe tbody tr th {\n",
              "        vertical-align: top;\n",
              "    }\n",
              "\n",
              "    .dataframe thead th {\n",
              "        text-align: right;\n",
              "    }\n",
              "</style>\n",
              "<table border=\"1\" class=\"dataframe\">\n",
              "  <thead>\n",
              "    <tr style=\"text-align: right;\">\n",
              "      <th></th>\n",
              "      <th>Empresa</th>\n",
              "      <th>Persona</th>\n",
              "      <th>Ventas</th>\n",
              "    </tr>\n",
              "  </thead>\n",
              "  <tbody>\n",
              "    <tr>\n",
              "      <th>0</th>\n",
              "      <td>GOOG</td>\n",
              "      <td>Luis</td>\n",
              "      <td>200</td>\n",
              "    </tr>\n",
              "    <tr>\n",
              "      <th>1</th>\n",
              "      <td>GOOG</td>\n",
              "      <td>Juan</td>\n",
              "      <td>120</td>\n",
              "    </tr>\n",
              "    <tr>\n",
              "      <th>2</th>\n",
              "      <td>MSFT</td>\n",
              "      <td>Oscar</td>\n",
              "      <td>340</td>\n",
              "    </tr>\n",
              "    <tr>\n",
              "      <th>3</th>\n",
              "      <td>MSFT</td>\n",
              "      <td>Rosa</td>\n",
              "      <td>124</td>\n",
              "    </tr>\n",
              "    <tr>\n",
              "      <th>4</th>\n",
              "      <td>FB</td>\n",
              "      <td>Jorge</td>\n",
              "      <td>243</td>\n",
              "    </tr>\n",
              "    <tr>\n",
              "      <th>5</th>\n",
              "      <td>FB</td>\n",
              "      <td>Esteban</td>\n",
              "      <td>350</td>\n",
              "    </tr>\n",
              "  </tbody>\n",
              "</table>\n",
              "</div>"
            ],
            "text/plain": [
              "  Empresa  Persona  Ventas\n",
              "0    GOOG     Luis     200\n",
              "1    GOOG     Juan     120\n",
              "2    MSFT    Oscar     340\n",
              "3    MSFT     Rosa     124\n",
              "4      FB    Jorge     243\n",
              "5      FB  Esteban     350"
            ]
          },
          "execution_count": 3,
          "metadata": {},
          "output_type": "execute_result"
        }
      ],
      "source": [
        "df"
      ]
    },
    {
      "cell_type": "markdown",
      "metadata": {
        "id": "d40Y3XtbVaGd"
      },
      "source": [
        "**Ahora se puede usar el método .groupby () para agrupar filas basándose en el nombre de una columna. Por ejemplo, agrupemos en función de la empresa. Esto creará un objeto DataFrameGroupBy:**"
      ]
    },
    {
      "cell_type": "code",
      "execution_count": null,
      "metadata": {
        "id": "4c40k18ZVaGe",
        "outputId": "b26d4226-8ea6-474f-9b21-54a2e174000a"
      },
      "outputs": [
        {
          "data": {
            "text/plain": [
              "<pandas.core.groupby.generic.DataFrameGroupBy object at 0x000002500A516EB0>"
            ]
          },
          "execution_count": 4,
          "metadata": {},
          "output_type": "execute_result"
        }
      ],
      "source": [
        "df.groupby('Empresa')"
      ]
    },
    {
      "cell_type": "markdown",
      "metadata": {
        "id": "jrx2aB3vVaGe"
      },
      "source": [
        "Puedes guardar este objeto como una nueva variable:"
      ]
    },
    {
      "cell_type": "code",
      "execution_count": null,
      "metadata": {
        "id": "NH7jPH4IVaGe"
      },
      "outputs": [],
      "source": [
        "by_emp = df.groupby(\"Empresa\")"
      ]
    },
    {
      "cell_type": "markdown",
      "metadata": {
        "id": "vqxwIXeTVaGe"
      },
      "source": [
        "Y luego llamar a los métodos agregados fuera del objeto:"
      ]
    },
    {
      "cell_type": "code",
      "execution_count": null,
      "metadata": {
        "id": "aU3QCcLsVaGe",
        "outputId": "0b87a8ca-340e-4653-95ba-cd89426b05a9"
      },
      "outputs": [
        {
          "data": {
            "text/html": [
              "<div>\n",
              "<style scoped>\n",
              "    .dataframe tbody tr th:only-of-type {\n",
              "        vertical-align: middle;\n",
              "    }\n",
              "\n",
              "    .dataframe tbody tr th {\n",
              "        vertical-align: top;\n",
              "    }\n",
              "\n",
              "    .dataframe thead th {\n",
              "        text-align: right;\n",
              "    }\n",
              "</style>\n",
              "<table border=\"1\" class=\"dataframe\">\n",
              "  <thead>\n",
              "    <tr style=\"text-align: right;\">\n",
              "      <th></th>\n",
              "      <th>Ventas</th>\n",
              "    </tr>\n",
              "    <tr>\n",
              "      <th>Empresa</th>\n",
              "      <th></th>\n",
              "    </tr>\n",
              "  </thead>\n",
              "  <tbody>\n",
              "    <tr>\n",
              "      <th>FB</th>\n",
              "      <td>296.5</td>\n",
              "    </tr>\n",
              "    <tr>\n",
              "      <th>GOOG</th>\n",
              "      <td>160.0</td>\n",
              "    </tr>\n",
              "    <tr>\n",
              "      <th>MSFT</th>\n",
              "      <td>232.0</td>\n",
              "    </tr>\n",
              "  </tbody>\n",
              "</table>\n",
              "</div>"
            ],
            "text/plain": [
              "         Ventas\n",
              "Empresa        \n",
              "FB        296.5\n",
              "GOOG      160.0\n",
              "MSFT      232.0"
            ]
          },
          "execution_count": 6,
          "metadata": {},
          "output_type": "execute_result"
        }
      ],
      "source": [
        "by_emp.mean()"
      ]
    },
    {
      "cell_type": "code",
      "execution_count": null,
      "metadata": {
        "id": "0kkRpnnzVaGe",
        "outputId": "e7fd1fe7-951a-49b6-c495-6d27b2738873"
      },
      "outputs": [
        {
          "data": {
            "text/html": [
              "<div>\n",
              "<style scoped>\n",
              "    .dataframe tbody tr th:only-of-type {\n",
              "        vertical-align: middle;\n",
              "    }\n",
              "\n",
              "    .dataframe tbody tr th {\n",
              "        vertical-align: top;\n",
              "    }\n",
              "\n",
              "    .dataframe thead th {\n",
              "        text-align: right;\n",
              "    }\n",
              "</style>\n",
              "<table border=\"1\" class=\"dataframe\">\n",
              "  <thead>\n",
              "    <tr style=\"text-align: right;\">\n",
              "      <th></th>\n",
              "      <th>Ventas</th>\n",
              "    </tr>\n",
              "    <tr>\n",
              "      <th>Empresa</th>\n",
              "      <th></th>\n",
              "    </tr>\n",
              "  </thead>\n",
              "  <tbody>\n",
              "    <tr>\n",
              "      <th>FB</th>\n",
              "      <td>296.5</td>\n",
              "    </tr>\n",
              "    <tr>\n",
              "      <th>GOOG</th>\n",
              "      <td>160.0</td>\n",
              "    </tr>\n",
              "    <tr>\n",
              "      <th>MSFT</th>\n",
              "      <td>232.0</td>\n",
              "    </tr>\n",
              "  </tbody>\n",
              "</table>\n",
              "</div>"
            ],
            "text/plain": [
              "         Ventas\n",
              "Empresa        \n",
              "FB        296.5\n",
              "GOOG      160.0\n",
              "MSFT      232.0"
            ]
          },
          "execution_count": 7,
          "metadata": {},
          "output_type": "execute_result"
        }
      ],
      "source": [
        "df.groupby('Empresa').mean()"
      ]
    },
    {
      "cell_type": "markdown",
      "metadata": {
        "id": "YdyR38ORVaGe"
      },
      "source": [
        "Más ejemplos de métodos agregados:"
      ]
    },
    {
      "cell_type": "code",
      "execution_count": null,
      "metadata": {
        "id": "MgZfjdCPVaGe",
        "outputId": "0aa8197a-92da-40e2-ed8d-a6ffa47dd135"
      },
      "outputs": [
        {
          "data": {
            "text/html": [
              "<div>\n",
              "<style scoped>\n",
              "    .dataframe tbody tr th:only-of-type {\n",
              "        vertical-align: middle;\n",
              "    }\n",
              "\n",
              "    .dataframe tbody tr th {\n",
              "        vertical-align: top;\n",
              "    }\n",
              "\n",
              "    .dataframe thead th {\n",
              "        text-align: right;\n",
              "    }\n",
              "</style>\n",
              "<table border=\"1\" class=\"dataframe\">\n",
              "  <thead>\n",
              "    <tr style=\"text-align: right;\">\n",
              "      <th></th>\n",
              "      <th>Ventas</th>\n",
              "    </tr>\n",
              "    <tr>\n",
              "      <th>Empresa</th>\n",
              "      <th></th>\n",
              "    </tr>\n",
              "  </thead>\n",
              "  <tbody>\n",
              "    <tr>\n",
              "      <th>FB</th>\n",
              "      <td>75.660426</td>\n",
              "    </tr>\n",
              "    <tr>\n",
              "      <th>GOOG</th>\n",
              "      <td>56.568542</td>\n",
              "    </tr>\n",
              "    <tr>\n",
              "      <th>MSFT</th>\n",
              "      <td>152.735065</td>\n",
              "    </tr>\n",
              "  </tbody>\n",
              "</table>\n",
              "</div>"
            ],
            "text/plain": [
              "             Ventas\n",
              "Empresa            \n",
              "FB        75.660426\n",
              "GOOG      56.568542\n",
              "MSFT     152.735065"
            ]
          },
          "execution_count": 8,
          "metadata": {},
          "output_type": "execute_result"
        }
      ],
      "source": [
        "by_emp.std()"
      ]
    },
    {
      "cell_type": "code",
      "execution_count": null,
      "metadata": {
        "id": "0TZEbL5EVaGe",
        "outputId": "b6261d53-d149-4404-be25-762888210ac5"
      },
      "outputs": [
        {
          "data": {
            "text/html": [
              "<div>\n",
              "<style scoped>\n",
              "    .dataframe tbody tr th:only-of-type {\n",
              "        vertical-align: middle;\n",
              "    }\n",
              "\n",
              "    .dataframe tbody tr th {\n",
              "        vertical-align: top;\n",
              "    }\n",
              "\n",
              "    .dataframe thead th {\n",
              "        text-align: right;\n",
              "    }\n",
              "</style>\n",
              "<table border=\"1\" class=\"dataframe\">\n",
              "  <thead>\n",
              "    <tr style=\"text-align: right;\">\n",
              "      <th></th>\n",
              "      <th>Persona</th>\n",
              "      <th>Ventas</th>\n",
              "    </tr>\n",
              "    <tr>\n",
              "      <th>Empresa</th>\n",
              "      <th></th>\n",
              "      <th></th>\n",
              "    </tr>\n",
              "  </thead>\n",
              "  <tbody>\n",
              "    <tr>\n",
              "      <th>FB</th>\n",
              "      <td>Esteban</td>\n",
              "      <td>243</td>\n",
              "    </tr>\n",
              "    <tr>\n",
              "      <th>GOOG</th>\n",
              "      <td>Juan</td>\n",
              "      <td>120</td>\n",
              "    </tr>\n",
              "    <tr>\n",
              "      <th>MSFT</th>\n",
              "      <td>Oscar</td>\n",
              "      <td>124</td>\n",
              "    </tr>\n",
              "  </tbody>\n",
              "</table>\n",
              "</div>"
            ],
            "text/plain": [
              "         Persona  Ventas\n",
              "Empresa                 \n",
              "FB       Esteban     243\n",
              "GOOG        Juan     120\n",
              "MSFT       Oscar     124"
            ]
          },
          "execution_count": 9,
          "metadata": {},
          "output_type": "execute_result"
        }
      ],
      "source": [
        "by_emp.min()"
      ]
    },
    {
      "cell_type": "code",
      "execution_count": null,
      "metadata": {
        "id": "MkvVheZJVaGf",
        "outputId": "040b2834-4870-4381-ce7a-a7894794f3ac"
      },
      "outputs": [
        {
          "data": {
            "text/html": [
              "<div>\n",
              "<style scoped>\n",
              "    .dataframe tbody tr th:only-of-type {\n",
              "        vertical-align: middle;\n",
              "    }\n",
              "\n",
              "    .dataframe tbody tr th {\n",
              "        vertical-align: top;\n",
              "    }\n",
              "\n",
              "    .dataframe thead th {\n",
              "        text-align: right;\n",
              "    }\n",
              "</style>\n",
              "<table border=\"1\" class=\"dataframe\">\n",
              "  <thead>\n",
              "    <tr style=\"text-align: right;\">\n",
              "      <th></th>\n",
              "      <th>Persona</th>\n",
              "      <th>Ventas</th>\n",
              "    </tr>\n",
              "    <tr>\n",
              "      <th>Empresa</th>\n",
              "      <th></th>\n",
              "      <th></th>\n",
              "    </tr>\n",
              "  </thead>\n",
              "  <tbody>\n",
              "    <tr>\n",
              "      <th>FB</th>\n",
              "      <td>Jorge</td>\n",
              "      <td>350</td>\n",
              "    </tr>\n",
              "    <tr>\n",
              "      <th>GOOG</th>\n",
              "      <td>Luis</td>\n",
              "      <td>200</td>\n",
              "    </tr>\n",
              "    <tr>\n",
              "      <th>MSFT</th>\n",
              "      <td>Rosa</td>\n",
              "      <td>340</td>\n",
              "    </tr>\n",
              "  </tbody>\n",
              "</table>\n",
              "</div>"
            ],
            "text/plain": [
              "        Persona  Ventas\n",
              "Empresa                \n",
              "FB        Jorge     350\n",
              "GOOG       Luis     200\n",
              "MSFT       Rosa     340"
            ]
          },
          "execution_count": 10,
          "metadata": {},
          "output_type": "execute_result"
        }
      ],
      "source": [
        "by_emp.max()"
      ]
    },
    {
      "cell_type": "code",
      "execution_count": null,
      "metadata": {
        "id": "sK4W7OkHVaGf",
        "outputId": "3a84a925-b386-44a2-c4d9-5d26c9d8d84a"
      },
      "outputs": [
        {
          "data": {
            "text/html": [
              "<div>\n",
              "<style scoped>\n",
              "    .dataframe tbody tr th:only-of-type {\n",
              "        vertical-align: middle;\n",
              "    }\n",
              "\n",
              "    .dataframe tbody tr th {\n",
              "        vertical-align: top;\n",
              "    }\n",
              "\n",
              "    .dataframe thead th {\n",
              "        text-align: right;\n",
              "    }\n",
              "</style>\n",
              "<table border=\"1\" class=\"dataframe\">\n",
              "  <thead>\n",
              "    <tr style=\"text-align: right;\">\n",
              "      <th></th>\n",
              "      <th>Persona</th>\n",
              "      <th>Ventas</th>\n",
              "    </tr>\n",
              "    <tr>\n",
              "      <th>Empresa</th>\n",
              "      <th></th>\n",
              "      <th></th>\n",
              "    </tr>\n",
              "  </thead>\n",
              "  <tbody>\n",
              "    <tr>\n",
              "      <th>FB</th>\n",
              "      <td>2</td>\n",
              "      <td>2</td>\n",
              "    </tr>\n",
              "    <tr>\n",
              "      <th>GOOG</th>\n",
              "      <td>2</td>\n",
              "      <td>2</td>\n",
              "    </tr>\n",
              "    <tr>\n",
              "      <th>MSFT</th>\n",
              "      <td>2</td>\n",
              "      <td>2</td>\n",
              "    </tr>\n",
              "  </tbody>\n",
              "</table>\n",
              "</div>"
            ],
            "text/plain": [
              "         Persona  Ventas\n",
              "Empresa                 \n",
              "FB             2       2\n",
              "GOOG           2       2\n",
              "MSFT           2       2"
            ]
          },
          "execution_count": 11,
          "metadata": {},
          "output_type": "execute_result"
        }
      ],
      "source": [
        "by_emp.count()"
      ]
    },
    {
      "cell_type": "code",
      "execution_count": null,
      "metadata": {
        "id": "G3vHli0DVaGf",
        "outputId": "d0e7d27c-34db-4866-c077-59b0a7443a87"
      },
      "outputs": [
        {
          "data": {
            "text/html": [
              "<div>\n",
              "<style scoped>\n",
              "    .dataframe tbody tr th:only-of-type {\n",
              "        vertical-align: middle;\n",
              "    }\n",
              "\n",
              "    .dataframe tbody tr th {\n",
              "        vertical-align: top;\n",
              "    }\n",
              "\n",
              "    .dataframe thead tr th {\n",
              "        text-align: left;\n",
              "    }\n",
              "\n",
              "    .dataframe thead tr:last-of-type th {\n",
              "        text-align: right;\n",
              "    }\n",
              "</style>\n",
              "<table border=\"1\" class=\"dataframe\">\n",
              "  <thead>\n",
              "    <tr>\n",
              "      <th></th>\n",
              "      <th colspan=\"8\" halign=\"left\">Ventas</th>\n",
              "    </tr>\n",
              "    <tr>\n",
              "      <th></th>\n",
              "      <th>count</th>\n",
              "      <th>mean</th>\n",
              "      <th>std</th>\n",
              "      <th>min</th>\n",
              "      <th>25%</th>\n",
              "      <th>50%</th>\n",
              "      <th>75%</th>\n",
              "      <th>max</th>\n",
              "    </tr>\n",
              "    <tr>\n",
              "      <th>Empresa</th>\n",
              "      <th></th>\n",
              "      <th></th>\n",
              "      <th></th>\n",
              "      <th></th>\n",
              "      <th></th>\n",
              "      <th></th>\n",
              "      <th></th>\n",
              "      <th></th>\n",
              "    </tr>\n",
              "  </thead>\n",
              "  <tbody>\n",
              "    <tr>\n",
              "      <th>FB</th>\n",
              "      <td>2.0</td>\n",
              "      <td>296.5</td>\n",
              "      <td>75.660426</td>\n",
              "      <td>243.0</td>\n",
              "      <td>269.75</td>\n",
              "      <td>296.5</td>\n",
              "      <td>323.25</td>\n",
              "      <td>350.0</td>\n",
              "    </tr>\n",
              "    <tr>\n",
              "      <th>GOOG</th>\n",
              "      <td>2.0</td>\n",
              "      <td>160.0</td>\n",
              "      <td>56.568542</td>\n",
              "      <td>120.0</td>\n",
              "      <td>140.00</td>\n",
              "      <td>160.0</td>\n",
              "      <td>180.00</td>\n",
              "      <td>200.0</td>\n",
              "    </tr>\n",
              "    <tr>\n",
              "      <th>MSFT</th>\n",
              "      <td>2.0</td>\n",
              "      <td>232.0</td>\n",
              "      <td>152.735065</td>\n",
              "      <td>124.0</td>\n",
              "      <td>178.00</td>\n",
              "      <td>232.0</td>\n",
              "      <td>286.00</td>\n",
              "      <td>340.0</td>\n",
              "    </tr>\n",
              "  </tbody>\n",
              "</table>\n",
              "</div>"
            ],
            "text/plain": [
              "        Ventas                                                        \n",
              "         count   mean         std    min     25%    50%     75%    max\n",
              "Empresa                                                               \n",
              "FB         2.0  296.5   75.660426  243.0  269.75  296.5  323.25  350.0\n",
              "GOOG       2.0  160.0   56.568542  120.0  140.00  160.0  180.00  200.0\n",
              "MSFT       2.0  232.0  152.735065  124.0  178.00  232.0  286.00  340.0"
            ]
          },
          "execution_count": 12,
          "metadata": {},
          "output_type": "execute_result"
        }
      ],
      "source": [
        "by_emp.describe()"
      ]
    },
    {
      "cell_type": "code",
      "execution_count": null,
      "metadata": {
        "id": "4C_G7tYFVaGf",
        "outputId": "4a7da204-80f8-4f11-9b26-08ce9edb4754"
      },
      "outputs": [
        {
          "data": {
            "text/html": [
              "<div>\n",
              "<style scoped>\n",
              "    .dataframe tbody tr th:only-of-type {\n",
              "        vertical-align: middle;\n",
              "    }\n",
              "\n",
              "    .dataframe tbody tr th {\n",
              "        vertical-align: top;\n",
              "    }\n",
              "\n",
              "    .dataframe thead th {\n",
              "        text-align: right;\n",
              "    }\n",
              "</style>\n",
              "<table border=\"1\" class=\"dataframe\">\n",
              "  <thead>\n",
              "    <tr style=\"text-align: right;\">\n",
              "      <th></th>\n",
              "      <th>Empresa</th>\n",
              "      <th>FB</th>\n",
              "      <th>GOOG</th>\n",
              "      <th>MSFT</th>\n",
              "    </tr>\n",
              "  </thead>\n",
              "  <tbody>\n",
              "    <tr>\n",
              "      <th rowspan=\"8\" valign=\"top\">Ventas</th>\n",
              "      <th>count</th>\n",
              "      <td>2.000000</td>\n",
              "      <td>2.000000</td>\n",
              "      <td>2.000000</td>\n",
              "    </tr>\n",
              "    <tr>\n",
              "      <th>mean</th>\n",
              "      <td>296.500000</td>\n",
              "      <td>160.000000</td>\n",
              "      <td>232.000000</td>\n",
              "    </tr>\n",
              "    <tr>\n",
              "      <th>std</th>\n",
              "      <td>75.660426</td>\n",
              "      <td>56.568542</td>\n",
              "      <td>152.735065</td>\n",
              "    </tr>\n",
              "    <tr>\n",
              "      <th>min</th>\n",
              "      <td>243.000000</td>\n",
              "      <td>120.000000</td>\n",
              "      <td>124.000000</td>\n",
              "    </tr>\n",
              "    <tr>\n",
              "      <th>25%</th>\n",
              "      <td>269.750000</td>\n",
              "      <td>140.000000</td>\n",
              "      <td>178.000000</td>\n",
              "    </tr>\n",
              "    <tr>\n",
              "      <th>50%</th>\n",
              "      <td>296.500000</td>\n",
              "      <td>160.000000</td>\n",
              "      <td>232.000000</td>\n",
              "    </tr>\n",
              "    <tr>\n",
              "      <th>75%</th>\n",
              "      <td>323.250000</td>\n",
              "      <td>180.000000</td>\n",
              "      <td>286.000000</td>\n",
              "    </tr>\n",
              "    <tr>\n",
              "      <th>max</th>\n",
              "      <td>350.000000</td>\n",
              "      <td>200.000000</td>\n",
              "      <td>340.000000</td>\n",
              "    </tr>\n",
              "  </tbody>\n",
              "</table>\n",
              "</div>"
            ],
            "text/plain": [
              "Empresa               FB        GOOG        MSFT\n",
              "Ventas count    2.000000    2.000000    2.000000\n",
              "       mean   296.500000  160.000000  232.000000\n",
              "       std     75.660426   56.568542  152.735065\n",
              "       min    243.000000  120.000000  124.000000\n",
              "       25%    269.750000  140.000000  178.000000\n",
              "       50%    296.500000  160.000000  232.000000\n",
              "       75%    323.250000  180.000000  286.000000\n",
              "       max    350.000000  200.000000  340.000000"
            ]
          },
          "execution_count": 13,
          "metadata": {},
          "output_type": "execute_result"
        }
      ],
      "source": [
        "by_emp.describe().transpose()"
      ]
    },
    {
      "cell_type": "code",
      "execution_count": null,
      "metadata": {
        "id": "gREh4-SOVaGf",
        "outputId": "62f763e5-e93e-4dca-d0d2-88b3272cb635"
      },
      "outputs": [
        {
          "data": {
            "text/plain": [
              "Ventas  count      2.000000\n",
              "        mean     160.000000\n",
              "        std       56.568542\n",
              "        min      120.000000\n",
              "        25%      140.000000\n",
              "        50%      160.000000\n",
              "        75%      180.000000\n",
              "        max      200.000000\n",
              "Name: GOOG, dtype: float64"
            ]
          },
          "execution_count": 14,
          "metadata": {},
          "output_type": "execute_result"
        }
      ],
      "source": [
        "by_emp.describe().transpose()['GOOG']"
      ]
    },
    {
      "cell_type": "markdown",
      "metadata": {
        "id": "HN2X2OsBVaGf"
      },
      "source": [
        "# Buen trabajo!"
      ]
    }
  ],
  "metadata": {
    "kernelspec": {
      "display_name": "Python 3",
      "language": "python",
      "name": "python3"
    },
    "language_info": {
      "codemirror_mode": {
        "name": "ipython",
        "version": 3
      },
      "file_extension": ".py",
      "mimetype": "text/x-python",
      "name": "python",
      "nbconvert_exporter": "python",
      "pygments_lexer": "ipython3",
      "version": "3.8.5"
    },
    "colab": {
      "provenance": [],
      "include_colab_link": true
    }
  },
  "nbformat": 4,
  "nbformat_minor": 0
}