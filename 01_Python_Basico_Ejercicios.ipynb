{
  "cells": [
    {
      "cell_type": "markdown",
      "metadata": {
        "id": "view-in-github",
        "colab_type": "text"
      },
      "source": [
        "<a href=\"https://colab.research.google.com/github/JonathanJuradoS/UTP-IA-2025/blob/main/01_Python_Basico_Ejercicios.ipynb\" target=\"_parent\"><img src=\"https://colab.research.google.com/assets/colab-badge.svg\" alt=\"Open In Colab\"/></a>"
      ]
    },
    {
      "cell_type": "markdown",
      "source": [],
      "metadata": {
        "id": "jLhr8ehrVBiq"
      }
    },
    {
      "cell_type": "markdown",
      "metadata": {
        "id": "4flGwLXAVAEB"
      },
      "source": [
        "___\n",
        "\n",
        "<img src='https://upload.wikimedia.org/wikipedia/commons/thumb/5/50/Utplogonuevo.svg/800px-Utplogonuevo.svg.png' with = 200, height = 100 />\n",
        "\n",
        "<a href='https://jupyter-notebook.readthedocs.io/en/stable/examples/Notebook/Running%20Code.html'> <img src='https://www.python.org/static/img/python-logo.png' /></a>\n",
        "___\n",
        "\n",
        "# Curso: Inteligencia Artificial\n",
        "\n",
        "# Docente: Mg. Jonathan A. Jurado Sandoval\n",
        "\n",
        "**Correo: C30837@utp.edu.pe**\n",
        "\n",
        "___\n",
        "# Python Basico - Ejercicios\n",
        "\n"
      ]
    },
    {
      "cell_type": "markdown",
      "metadata": {
        "id": "m0K6iRguVAEE"
      },
      "source": [
        "## Ejercicios\n",
        "\n",
        "Responda las preguntas o complete las tareas descritas en negrita a continuación, use el método específico descrito si corresponde."
      ]
    },
    {
      "cell_type": "markdown",
      "metadata": {
        "id": "DU4TtatfVAEF"
      },
      "source": [
        "** ¿Cuánto es 7 elevado a 4?**"
      ]
    },
    {
      "cell_type": "code",
      "execution_count": null,
      "metadata": {
        "id": "e-51_noHVAEG",
        "outputId": "7b1ef83b-cb25-45a9-854b-be777323b78e"
      },
      "outputs": [
        {
          "data": {
            "text/plain": [
              "2401"
            ]
          },
          "execution_count": 6,
          "metadata": {},
          "output_type": "execute_result"
        }
      ],
      "source": [
        "x = 7**4\n",
        "x"
      ]
    },
    {
      "cell_type": "markdown",
      "metadata": {
        "id": "mXtPEYAdVAEI"
      },
      "source": [
        "** Divida esta cadena:**\n",
        "\n",
        "    s = \"Hola mi estimado!\"\n",
        "    \n",
        "**en una lista. **"
      ]
    },
    {
      "cell_type": "code",
      "execution_count": null,
      "metadata": {
        "id": "AvYwf6h7VAEI",
        "outputId": "b6b1f170-169a-4434-e8e3-1d1c4d055bcf"
      },
      "outputs": [
        {
          "data": {
            "text/plain": [
              "['Hola', 'mi', 'estimado!']"
            ]
          },
          "execution_count": 2,
          "metadata": {},
          "output_type": "execute_result"
        }
      ],
      "source": [
        "s = \"Hola mi estimado!\"\n",
        "lista=s.split()\n",
        "lista"
      ]
    },
    {
      "cell_type": "code",
      "execution_count": null,
      "metadata": {
        "id": "RNU-RgSIVAEI",
        "outputId": "258ef6fa-c7c8-4cbd-c480-3f495b231abe"
      },
      "outputs": [
        {
          "data": {
            "text/plain": [
              "['Hola', 'mi', 'estimado!']"
            ]
          },
          "execution_count": 5,
          "metadata": {},
          "output_type": "execute_result"
        }
      ],
      "source": []
    },
    {
      "cell_type": "markdown",
      "metadata": {
        "id": "y9NwQo3hVAEJ"
      },
      "source": [
        "** Dadas las variables:**\n",
        "\n",
        "    planeta = \"Tierra\"\n",
        "    diametro = 12742\n",
        "\n",
        "** Use .format() para visualizar la siguente frase: **\n",
        "\n",
        "    El diametro de la Tierra es 12742 kilometros."
      ]
    },
    {
      "cell_type": "code",
      "execution_count": null,
      "metadata": {
        "id": "MtTWBftDVAEJ",
        "outputId": "f312c96b-8f40-4793-c698-de0db6d7b539"
      },
      "outputs": [
        {
          "name": "stdout",
          "output_type": "stream",
          "text": [
            "El diametro de la Tierra es 12742 Kilometros.\n"
          ]
        }
      ],
      "source": [
        "planeta = \"Tierra\"\n",
        "diametro = 12742\n",
        "print('El diametro de la {} es {} Kilometros.'. format(planeta, diametro))"
      ]
    },
    {
      "cell_type": "code",
      "execution_count": null,
      "metadata": {
        "id": "yvuGKUyNVAEJ",
        "outputId": "01aee12f-6e05-4df8-aa89-ae87a2b3ef0f"
      },
      "outputs": [
        {
          "name": "stdout",
          "output_type": "stream",
          "text": [
            "El diametro de la Tierra es 12742 kilometros.\n"
          ]
        }
      ],
      "source": []
    },
    {
      "cell_type": "markdown",
      "metadata": {
        "id": "ON4bfHt3VAEJ"
      },
      "source": [
        "** Dada esta lista anidada, use la indexación para obtener la palabra \"hola\"**"
      ]
    },
    {
      "cell_type": "code",
      "execution_count": null,
      "metadata": {
        "id": "h0fI0tATVAEK",
        "outputId": "38c7bb67-46d9-43ea-80ff-152bce7b5ceb"
      },
      "outputs": [
        {
          "data": {
            "text/plain": [
              "'hola'"
            ]
          },
          "execution_count": 13,
          "metadata": {},
          "output_type": "execute_result"
        }
      ],
      "source": [
        "lst = [1,2,[3,4],[5,[100,200,['hola']],23,11],1,7]\n",
        "lst[3][1][2][0]"
      ]
    },
    {
      "cell_type": "markdown",
      "metadata": {
        "id": "VO2mKWL-VAEK"
      },
      "source": [
        "** Dado este diccionario nido, tome la palabra \"hola\". Esté preparado, esto será molesto / complicado  **"
      ]
    },
    {
      "cell_type": "code",
      "execution_count": null,
      "metadata": {
        "id": "CwOHmKSFVAEK",
        "outputId": "592760ea-efa4-4e53-b449-95260b910f27"
      },
      "outputs": [
        {
          "data": {
            "text/plain": [
              "'hola'"
            ]
          },
          "execution_count": 25,
          "metadata": {},
          "output_type": "execute_result"
        }
      ],
      "source": [
        "d = {'k1':[1,2,3,{'dificil':['oh','man','inicio',{'destino':[1,2,3,'hola']}]}]}\n",
        "d['k1'][3]['dificil'][3]['destino'][3]"
      ]
    },
    {
      "cell_type": "code",
      "execution_count": null,
      "metadata": {
        "id": "McpluWOAVAEK",
        "outputId": "42a98442-b537-4219-f132-2158ea3be750"
      },
      "outputs": [
        {
          "data": {
            "text/plain": [
              "'hola'"
            ]
          },
          "execution_count": 11,
          "metadata": {},
          "output_type": "execute_result"
        }
      ],
      "source": []
    },
    {
      "cell_type": "markdown",
      "metadata": {
        "id": "qEM0kdvfVAEL"
      },
      "source": [
        "** ¿Cuál es la principal diferencia entre una tupla y una lista? **\n",
        "Lista = mutable.\n",
        "Tupla = inmutable."
      ]
    },
    {
      "cell_type": "code",
      "execution_count": null,
      "metadata": {
        "id": "tw3ESYwiVAEL"
      },
      "outputs": [],
      "source": []
    },
    {
      "cell_type": "markdown",
      "metadata": {
        "id": "IyYcEkSDVAEL"
      },
      "source": [
        "** Cree una función que tome el dominio del sitio web de correo electrónico a partir de una cadena con el siguiente formato: **\n",
        "\n",
        "    user@dominio.com\n",
        "    \n",
        "**Entonces, por ejemplo, pasando \"user@domain.com\" retornaria: domain.com**"
      ]
    },
    {
      "cell_type": "code",
      "execution_count": null,
      "metadata": {
        "id": "tJHr7JtxVAEL",
        "outputId": "04369150-dc41-4f7a-a6e7-4b3944885424"
      },
      "outputs": [
        {
          "name": "stdout",
          "output_type": "stream",
          "text": [
            "Captura de dominio: gmail.com\n"
          ]
        }
      ],
      "source": [
        "def dominioGet(param1):\n",
        "    if '@' in param1:\n",
        "        print('Captura de dominio:', param1.split('@')[1])\n",
        "    else:\n",
        "        print('Correo inValido')\n",
        "\n",
        "dominioGet('correo@gmail.com')"
      ]
    },
    {
      "cell_type": "code",
      "execution_count": null,
      "metadata": {
        "id": "ylVmmh4PVAEL",
        "outputId": "f53d372e-67f5-4285-9833-9d747bfc8289"
      },
      "outputs": [
        {
          "name": "stdout",
          "output_type": "stream",
          "text": [
            "Captura de dominio: dominio.com\n"
          ]
        }
      ],
      "source": [
        "dominioGet('user@dominio.com')"
      ]
    },
    {
      "cell_type": "markdown",
      "metadata": {
        "id": "QWwNiPVGVAEM"
      },
      "source": [
        "** Cree una función básica que devuelva Verdadero si la palabra 'perro' está contenida en la cadena de entrada. No se preocupe por casos extremos como una puntuación que se adjunta a la palabra perro, pero tenga en cuenta las mayúsculas. **"
      ]
    },
    {
      "cell_type": "code",
      "execution_count": null,
      "metadata": {
        "id": "Ef-1V7gYVAEM",
        "outputId": "3f7e6029-f21f-4baf-836f-e14c73d9f2aa"
      },
      "outputs": [
        {
          "name": "stdout",
          "output_type": "stream",
          "text": [
            "Palabra Perro encontrado\n"
          ]
        }
      ],
      "source": [
        "def ubicaDog(param1):\n",
        "    if 'perro' in param1.lower():\n",
        "        print('Palabra Perro encontrado')\n",
        "    else:\n",
        "        print('No encontrado palabra perro')\n",
        "\n",
        "ubicaDog('Esta el perro aqui?')"
      ]
    },
    {
      "cell_type": "code",
      "execution_count": null,
      "metadata": {
        "id": "C6DELg7tVAEM",
        "outputId": "2fe037d5-8eba-42cb-e0c2-db8da37a072c"
      },
      "outputs": [
        {
          "name": "stdout",
          "output_type": "stream",
          "text": [
            "Palabra Perro encontrado\n"
          ]
        }
      ],
      "source": [
        "ubicaDog('Esta el PERRO aqui?')"
      ]
    },
    {
      "cell_type": "markdown",
      "metadata": {
        "id": "4cJWiN7nVAEM"
      },
      "source": [
        "** Cree una función que cuente el número de veces que aparece la palabra \"perro\" en una cadena. Nuevamente ignore los casos extremos. **"
      ]
    },
    {
      "cell_type": "code",
      "execution_count": null,
      "metadata": {
        "id": "v3pcniqgVAEM",
        "outputId": "e9a31fbe-0594-4f86-ecd9-d6edf801be3b"
      },
      "outputs": [
        {
          "name": "stdout",
          "output_type": "stream",
          "text": [
            "Palabra Perro encontrado  3\n"
          ]
        }
      ],
      "source": [
        "def cuentaDog(param1):\n",
        "    param1=param1.lower()\n",
        "    print('Palabra Perro encontrado ', param1.count('perro'))\n",
        "\n",
        "cuentaDog('Este perro corre mas rapido que este otro perro no lo dudes el otro PerrO!')"
      ]
    },
    {
      "cell_type": "code",
      "execution_count": null,
      "metadata": {
        "id": "wUoSgChGVAEN",
        "outputId": "f1433764-d199-4aef-eb5c-b0e59f2476fc"
      },
      "outputs": [
        {
          "name": "stdout",
          "output_type": "stream",
          "text": [
            "Palabra Perro encontrado  2\n"
          ]
        }
      ],
      "source": [
        "cuentaDog('Este perro corre mas rapido que este otro perro no lo dudes!')"
      ]
    },
    {
      "cell_type": "markdown",
      "metadata": {
        "id": "MNd-bGZXVAEN"
      },
      "source": [
        "** Utilice expresiones lambda y la función filter () para filtrar las palabras de una lista que comiencen con la letra 's'. Por ejemplo:**\n",
        "\n",
        "    seq = ['sopa','perro','salida','gato','excelente']\n",
        "\n",
        "**debe filtrarse solo:**\n",
        "\n",
        "    ['sopa','salida']"
      ]
    },
    {
      "cell_type": "code",
      "execution_count": null,
      "metadata": {
        "id": "itV3tmgWVAEN",
        "outputId": "35c7f716-5c5e-4d41-91e9-2c96d134c289"
      },
      "outputs": [
        {
          "name": "stdout",
          "output_type": "stream",
          "text": [
            "['sopa', 'salida']\n"
          ]
        }
      ],
      "source": [
        "seq = ['sopa','perro','salida','gato','excelente']\n",
        "\n",
        "resultado = list(filter(lambda x: x[0]=='s',seq))\n",
        "\n",
        "print(resultado)"
      ]
    },
    {
      "cell_type": "code",
      "execution_count": null,
      "metadata": {
        "id": "Z5YsW1GGVAEN",
        "outputId": "8c720462-e8ee-40e8-8581-9b7c7defc2a8"
      },
      "outputs": [
        {
          "data": {
            "text/plain": [
              "['sopa', 'salida']"
            ]
          },
          "execution_count": 21,
          "metadata": {},
          "output_type": "execute_result"
        }
      ],
      "source": []
    },
    {
      "cell_type": "markdown",
      "metadata": {
        "id": "-4FtPO3FVAEN"
      },
      "source": [
        "### Ejercicio Final\n",
        "**Conduces demasiado rápido y un policía te detiene. Escribe una función para devolver uno de los 3 resultados posibles: \"Sin papeleta\", \"Papeleta NO GRAVE\" o \"Papeleta GRAVE\".\n",
        "   Si tu velocidad es de 60 o menos, el resultado es \"Sin papeleta\". Si la velocidad está entre 61\n",
        "   y 80 inclusive, el resultado es \"Papeleta NO GRAVE\". Si la velocidad es 81 o más, el resultado es \"Papeleta GRAVE\". A menos que sea tu cumpleaños (codificado como un valor booleano en los parámetros de la función), en tu cumpleaños, la velocidad puede ser 5 más alta en total de casos. **"
      ]
    },
    {
      "cell_type": "code",
      "execution_count": null,
      "metadata": {
        "id": "P4e19duCVAEN",
        "outputId": "9b7feed3-7d5e-4093-d21c-62b4f181d5f1"
      },
      "outputs": [
        {
          "name": "stdout",
          "output_type": "stream",
          "text": [
            "Papeleta GRAVE\n"
          ]
        }
      ],
      "source": [
        "from datetime import date\n",
        "\n",
        "def calcula_velocidad(velocidad, es_mi_cumple):\n",
        "   x = 0\n",
        "   word= 'Papeleta'\n",
        "   if es_mi_cumple:\n",
        "      x=5\n",
        "\n",
        "   if velocidad<=(60+x):\n",
        "      print('sin {}'.format(word))\n",
        "   elif velocidad>=(61+x) and velocidad<=(80+x):\n",
        "      print('{} NO GRAVE'.format(word))\n",
        "   else:\n",
        "      print('{} GRAVE'.format(word))\n",
        "\n",
        "calcula_velocidad(91,True)\n"
      ]
    },
    {
      "cell_type": "code",
      "execution_count": null,
      "metadata": {
        "id": "ryTmWkOYVAEO",
        "outputId": "1c81ba25-56b6-4ac1-e022-f06a6b418171"
      },
      "outputs": [
        {
          "name": "stdout",
          "output_type": "stream",
          "text": [
            "sin 5\n"
          ]
        }
      ],
      "source": [
        "calcula_velocidad(61,True)"
      ]
    },
    {
      "cell_type": "code",
      "execution_count": null,
      "metadata": {
        "id": "bjaD98nJVAEO",
        "outputId": "06050a62-6132-49b4-e842-92f31744b1c0"
      },
      "outputs": [
        {
          "name": "stdout",
          "output_type": "stream",
          "text": [
            "0 NO GRAVE\n"
          ]
        }
      ],
      "source": [
        "calcula_velocidad(61,False)"
      ]
    },
    {
      "cell_type": "markdown",
      "metadata": {
        "id": "RZ9oJiOtVAEO"
      },
      "source": [
        "# Buen trabajo!"
      ]
    }
  ],
  "metadata": {
    "kernelspec": {
      "display_name": "Python 3 (ipykernel)",
      "language": "python",
      "name": "python3"
    },
    "language_info": {
      "codemirror_mode": {
        "name": "ipython",
        "version": 3
      },
      "file_extension": ".py",
      "mimetype": "text/x-python",
      "name": "python",
      "nbconvert_exporter": "python",
      "pygments_lexer": "ipython3",
      "version": "3.12.4"
    },
    "colab": {
      "provenance": [],
      "include_colab_link": true
    }
  },
  "nbformat": 4,
  "nbformat_minor": 0
}